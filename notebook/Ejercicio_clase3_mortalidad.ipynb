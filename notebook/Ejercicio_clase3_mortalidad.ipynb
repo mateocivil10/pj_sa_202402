{
 "cells": [
  {
   "cell_type": "code",
   "execution_count": null,
   "metadata": {},
   "outputs": [
    {
     "name": "stdout",
     "output_type": "stream",
     "text": [
      "La probabilidad de que una persona de 50 años sobreviva hasta los 51 años es: 0.9850\n",
      "La probabilidad de que fallezca antes de los 51 años es: 0.0150\n"
     ]
    }
   ],
   "source": [
    "#Ejercicio 1\n",
    "\n",
    "# Definimos la probabilidad de fallecimiento\n",
    "q_50 = 0.015\n",
    "\n",
    "# Calculamos la probabilidad de supervivencia\n",
    "p_50 = 1 - q_50\n",
    "\n",
    "# Mostramos los resultados\n",
    "print(f\"La probabilidad de que una persona de 50 años sobreviva hasta los 51 años es: {p_50:.4f}\")\n",
    "print(f\"La probabilidad de que fallezca antes de los 51 años es: {q_50:.4f}\")\n"
   ]
  },
  {
   "cell_type": "code",
   "execution_count": 2,
   "metadata": {},
   "outputs": [
    {
     "name": "stdout",
     "output_type": "stream",
     "text": [
      "La probabilidad de que una persona de 65 años fallezca antes de los 66 años es: 0.0400\n",
      "La probabilidad de que una persona de 65 años sobreviva hasta los 67 años es: 0.9216\n"
     ]
    }
   ],
   "source": [
    "#Ejercicio 2\n",
    "\n",
    "# Definimos la probabilidad de supervivencia hasta los 66 años\n",
    "p_65 = 0.96\n",
    "\n",
    "# Calculamos la probabilidad de fallecimiento antes de los 66 años\n",
    "q_65 = 1 - p_65\n",
    "\n",
    "# Calculamos la probabilidad de supervivencia hasta los 67 años\n",
    "p_67 = p_65 * p_65  # asumimos p_66 = p_65\n",
    "\n",
    "# Mostramos los resultados\n",
    "print(f\"La probabilidad de que una persona de 65 años fallezca antes de los 66 años es: {q_65:.4f}\")\n",
    "print(f\"La probabilidad de que una persona de 65 años sobreviva hasta los 67 años es: {p_67:.4f}\")\n"
   ]
  },
  {
   "cell_type": "code",
   "execution_count": 3,
   "metadata": {},
   "outputs": [
    {
     "name": "stdout",
     "output_type": "stream",
     "text": [
      "La probabilidad de que una persona de 70 años sobreviva hasta los 72 años es: 0.8740\n",
      "La probabilidad de que una persona de 70 años fallezca antes de cumplir los 72 años es: 0.1260\n"
     ]
    }
   ],
   "source": [
    "#Ejercicio 3\n",
    "\n",
    "# Definimos las probabilidades de supervivencia\n",
    "p_70 = 0.95  # Probabilidad de sobrevivir hasta los 71\n",
    "p_71 = 0.92  # Probabilidad de sobrevivir hasta los 72\n",
    "\n",
    "# Calculamos la probabilidad de sobrevivir hasta los 72 años\n",
    "p_70_a_72 = p_70 * p_71\n",
    "\n",
    "# Calculamos la probabilidad de fallecimiento antes de cumplir 72 años\n",
    "q_70 = 1 - p_70_a_72\n",
    "\n",
    "# Mostramos los resultados\n",
    "print(f\"La probabilidad de que una persona de 70 años sobreviva hasta los 72 años es: {p_70_a_72:.4f}\")\n",
    "print(f\"La probabilidad de que una persona de 70 años fallezca antes de cumplir los 72 años es: {q_70:.4f}\")\n"
   ]
  },
  {
   "cell_type": "code",
   "execution_count": 4,
   "metadata": {},
   "outputs": [
    {
     "name": "stdout",
     "output_type": "stream",
     "text": [
      "La probabilidad de fallecimiento antes de cumplir 61 años es: 0.0300\n",
      "La probabilidad de que la persona sobreviva hasta los 62 años es: 0.9360\n"
     ]
    }
   ],
   "source": [
    "#Ejercicio 4\n",
    "\n",
    "# Definimos las probabilidades de supervivencia\n",
    "p_60 = 0.97  # Probabilidad de sobrevivir hasta los 61\n",
    "q_61 = 0.035  # Probabilidad de fallecimiento entre los 61 y 62\n",
    "\n",
    "# Calculamos la probabilidad de fallecimiento antes de cumplir 61 años\n",
    "q_60 = 1 - p_60\n",
    "\n",
    "# Calculamos la probabilidad de sobrevivir hasta los 62 años\n",
    "p_62 = p_60 * (1 - q_61)\n",
    "\n",
    "# Mostramos los resultados\n",
    "print(f\"La probabilidad de fallecimiento antes de cumplir 61 años es: {q_60:.4f}\")\n",
    "print(f\"La probabilidad de que la persona sobreviva hasta los 62 años es: {p_62:.4f}\")\n"
   ]
  },
  {
   "cell_type": "code",
   "execution_count": 7,
   "metadata": {},
   "outputs": [
    {
     "name": "stdout",
     "output_type": "stream",
     "text": [
      "La probabilidad de que una persona de 55 años sobreviva hasta los 57 años es: 0.9555\n"
     ]
    }
   ],
   "source": [
    "#Ejercicio 5\n",
    "\n",
    "# Definimos las probabilidades\n",
    "q_55 = 0.02  # Probabilidad de fallecimiento antes de 56\n",
    "p_55 = 0.98  # Probabilidad de sobrevivir hasta 56\n",
    "q_56 = 0.025  # Probabilidad de fallecimiento antes de 57\n",
    "p_56 = 0.975  # Probabilidad de sobrevivir hasta 57\n",
    "\n",
    "# Calculamos la probabilidad de sobrevivir hasta los 57 años\n",
    "p_55_a_57 = p_55 * p_56\n",
    "\n",
    "# Mostramos los resultados\n",
    "print(f\"La probabilidad de que una persona de 55 años sobreviva hasta los 57 años es: {p_55_a_57:.4f}\")\n",
    "\n",
    "#La segunda pregunta no se puede responder, ya que no se cuenta con la información de la probabilidad de fallecimiento de los años 57 al 75\n"
   ]
  }
 ],
 "metadata": {
  "kernelspec": {
   "display_name": "Python 3",
   "language": "python",
   "name": "python3"
  },
  "language_info": {
   "codemirror_mode": {
    "name": "ipython",
    "version": 3
   },
   "file_extension": ".py",
   "mimetype": "text/x-python",
   "name": "python",
   "nbconvert_exporter": "python",
   "pygments_lexer": "ipython3",
   "version": "3.9.20"
  }
 },
 "nbformat": 4,
 "nbformat_minor": 2
}
