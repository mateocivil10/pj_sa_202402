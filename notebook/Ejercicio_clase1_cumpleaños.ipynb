{
 "cells": [
  {
   "cell_type": "code",
   "execution_count": 1,
   "metadata": {},
   "outputs": [
    {
     "name": "stdout",
     "output_type": "stream",
     "text": [
      "La probabilidad de que al menos dos personas cumplan años el mismo día en un grupo de 52 personas es: 0.9776\n"
     ]
    }
   ],
   "source": [
    "import random\n",
    "\n",
    "# Número de personas en la conferencia\n",
    "num_personas = 52\n",
    "\n",
    "# Número de simulaciones\n",
    "num_simulaciones = 10000\n",
    "\n",
    "# Inicializa el contador de coincidencias\n",
    "coincidencias = 0\n",
    "\n",
    "# Realiza las simulaciones\n",
    "for _ in range(num_simulaciones):\n",
    "  # Genera una lista de cumpleaños aleatorios\n",
    "  cumpleaños = [random.randint(1, 365) for _ in range(num_personas)]\n",
    "\n",
    "  # Verifica si hay cumpleaños repetidos\n",
    "  if len(cumpleaños) != len(set(cumpleaños)):\n",
    "    coincidencias += 1\n",
    "\n",
    "# Calcula la probabilidad\n",
    "probabilidad = coincidencias / num_simulaciones\n",
    "\n",
    "# Imprime el resultado\n",
    "print(f\"La probabilidad de que al menos dos personas cumplan años el mismo día en un grupo de 52 personas es: {probabilidad:.4f}\")"
   ]
  }
 ],
 "metadata": {
  "kernelspec": {
   "display_name": "Python 3",
   "language": "python",
   "name": "python3"
  },
  "language_info": {
   "codemirror_mode": {
    "name": "ipython",
    "version": 3
   },
   "file_extension": ".py",
   "mimetype": "text/x-python",
   "name": "python",
   "nbconvert_exporter": "python",
   "pygments_lexer": "ipython3",
   "version": "3.9.20"
  }
 },
 "nbformat": 4,
 "nbformat_minor": 2
}
