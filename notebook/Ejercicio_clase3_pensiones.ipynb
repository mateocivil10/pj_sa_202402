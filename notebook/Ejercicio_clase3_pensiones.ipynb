{
 "cells": [
  {
   "cell_type": "code",
   "execution_count": 63,
   "metadata": {},
   "outputs": [
    {
     "name": "stdout",
     "output_type": "stream",
     "text": [
      "Ahorro total al cumplir 62 años: $1,217,344,234.40\n"
     ]
    }
   ],
   "source": [
    "# Ejercicio práctico de pensiones punto 1\n",
    "\n",
    "# Información del caso\n",
    "salario_mensual = 7000000  # salario mensual\n",
    "aporte_empleado = 0.16 * salario_mensual  # Aporte del empleado\n",
    "aporte_anual = aporte_empleado * 12  # Aporte anual\n",
    "tasa_interes_anual = 0.04  # tasa de interés real anual\n",
    "tasa_interes_mensual = tasa_interes_anual / 12  # tasa de interés mensual\n",
    "n_years = 32  # años hasta la jubilación\n",
    "acumulado = 96000000\n",
    "n_meses = n_years * 12  # total de meses hasta la jubilación\n",
    "\n",
    "# Calcular ahorro total acumulado\n",
    "FV = acumulado\n",
    "for mes in range(n_meses):\n",
    "    FV = (FV + aporte_empleado) * (1 + tasa_interes_mensual)\n",
    "\n",
    "# Resultados\n",
    "print(f\"Ahorro total al cumplir 62 años: ${FV:,.2f}\")\n",
    "\n"
   ]
  },
  {
   "cell_type": "code",
   "execution_count": 64,
   "metadata": {},
   "outputs": [
    {
     "name": "stdout",
     "output_type": "stream",
     "text": [
      "Ahorro total al cumplir 62 años: $1,313,344,234.40\n"
     ]
    }
   ],
   "source": [
    "ahorro_total = acumulado + FV\n",
    "# Resultados\n",
    "print(f\"Ahorro total al cumplir 62 años: ${ahorro_total:,.2f}\")"
   ]
  },
  {
   "cell_type": "code",
   "execution_count": 47,
   "metadata": {},
   "outputs": [
    {
     "data": {
      "text/plain": [
       "872800998.1122966"
      ]
     },
     "execution_count": 47,
     "metadata": {},
     "output_type": "execute_result"
    }
   ],
   "source": [
    "FV"
   ]
  },
  {
   "cell_type": "code",
   "execution_count": 48,
   "metadata": {},
   "outputs": [],
   "source": [
    "# Ejercicio práctico de pensiones punto 2\n",
    "import pandas as pd\n",
    "import numpy as np\n",
    "import sys\n",
    "import os\n",
    "from Tablas_mortalidad import *"
   ]
  },
  {
   "cell_type": "code",
   "execution_count": 49,
   "metadata": {},
   "outputs": [],
   "source": [
    "ruta_h=r'TM_hombres.xlsx'\n",
    "Tmort_h=pd.read_excel(ruta_h)"
   ]
  },
  {
   "cell_type": "code",
   "execution_count": 50,
   "metadata": {},
   "outputs": [],
   "source": [
    "T_hombre=TMensual(Tmort_h)\n"
   ]
  },
  {
   "cell_type": "code",
   "execution_count": 51,
   "metadata": {},
   "outputs": [],
   "source": [
    "edad_jubilacion = 62 \n",
    "T=tmort_filtered(T_hombre,edad_jubilacion)"
   ]
  },
  {
   "cell_type": "code",
   "execution_count": 52,
   "metadata": {},
   "outputs": [
    {
     "name": "stderr",
     "output_type": "stream",
     "text": [
      "C:\\Users\\Yessica García\\AppData\\Local\\Temp\\ipykernel_4248\\2328870418.py:1: SettingWithCopyWarning: \n",
      "A value is trying to be set on a copy of a slice from a DataFrame.\n",
      "Try using .loc[row_indexer,col_indexer] = value instead\n",
      "\n",
      "See the caveats in the documentation: https://pandas.pydata.org/pandas-docs/stable/user_guide/indexing.html#returning-a-view-versus-a-copy\n",
      "  T['n'] = T['x'].apply(lambda x: x - edad_jubilacion)*12\n"
     ]
    }
   ],
   "source": [
    "T['n'] = T['x'].apply(lambda x: x - edad_jubilacion)*12"
   ]
  },
  {
   "cell_type": "code",
   "execution_count": 53,
   "metadata": {},
   "outputs": [
    {
     "name": "stderr",
     "output_type": "stream",
     "text": [
      "C:\\Users\\Yessica García\\AppData\\Local\\Temp\\ipykernel_4248\\1841241684.py:2: SettingWithCopyWarning: \n",
      "A value is trying to be set on a copy of a slice from a DataFrame.\n",
      "Try using .loc[row_indexer,col_indexer] = value instead\n",
      "\n",
      "See the caveats in the documentation: https://pandas.pydata.org/pandas-docs/stable/user_guide/indexing.html#returning-a-view-versus-a-copy\n",
      "  T['Vn'] = np.ones(len(T))*(1/(1+i))\n",
      "C:\\Users\\Yessica García\\AppData\\Local\\Temp\\ipykernel_4248\\1841241684.py:3: SettingWithCopyWarning: \n",
      "A value is trying to be set on a copy of a slice from a DataFrame.\n",
      "Try using .loc[row_indexer,col_indexer] = value instead\n",
      "\n",
      "See the caveats in the documentation: https://pandas.pydata.org/pandas-docs/stable/user_guide/indexing.html#returning-a-view-versus-a-copy\n",
      "  T['Vn'] = T.apply(lambda row: row['Vn'] ** row['n'], axis=1)\n"
     ]
    }
   ],
   "source": [
    "i= tasa_interes_mensual\n",
    "T['Vn'] = np.ones(len(T))*(1/(1+i))\n",
    "T['Vn'] = T.apply(lambda row: row['Vn'] ** row['n'], axis=1)"
   ]
  },
  {
   "cell_type": "code",
   "execution_count": 62,
   "metadata": {},
   "outputs": [
    {
     "data": {
      "text/plain": [
       "254.5545084058316"
      ]
     },
     "execution_count": 62,
     "metadata": {},
     "output_type": "execute_result"
    }
   ],
   "source": [
    "sum_vect=T['p(x)']*T['Vn']\n",
    "suma=sum_vect.sum()\n",
    "suma"
   ]
  },
  {
   "cell_type": "code",
   "execution_count": 65,
   "metadata": {},
   "outputs": [
    {
     "data": {
      "text/plain": [
       "5159383.122417638"
      ]
     },
     "execution_count": 65,
     "metadata": {},
     "output_type": "execute_result"
    }
   ],
   "source": [
    "c=ahorro_total/suma\n",
    "c"
   ]
  },
  {
   "cell_type": "code",
   "execution_count": 61,
   "metadata": {},
   "outputs": [
    {
     "name": "stdout",
     "output_type": "stream",
     "text": [
      "564     0.999234\n",
      "565     0.995913\n",
      "566     0.992604\n",
      "567     0.989306\n",
      "568     0.986018\n",
      "          ...   \n",
      "1136    0.136660\n",
      "1137    0.135087\n",
      "1138    0.133301\n",
      "1139    0.131230\n",
      "1140    0.000000\n",
      "Length: 577, dtype: float64\n"
     ]
    }
   ],
   "source": [
    "print (sum_vect)"
   ]
  }
 ],
 "metadata": {
  "kernelspec": {
   "display_name": "Python 3",
   "language": "python",
   "name": "python3"
  },
  "language_info": {
   "codemirror_mode": {
    "name": "ipython",
    "version": 3
   },
   "file_extension": ".py",
   "mimetype": "text/x-python",
   "name": "python",
   "nbconvert_exporter": "python",
   "pygments_lexer": "ipython3",
   "version": "3.9.20"
  }
 },
 "nbformat": 4,
 "nbformat_minor": 2
}
