{
 "cells": [
  {
   "cell_type": "code",
   "execution_count": 2,
   "metadata": {},
   "outputs": [],
   "source": [
    "#importar librerías necesarias\n",
    "from scipy import stats  #estadística y ciencia de datos\n",
    "import matplotlib.pyplot as plt\n",
    "import numpy as np "
   ]
  },
  {
   "cell_type": "code",
   "execution_count": 3,
   "metadata": {},
   "outputs": [],
   "source": [
    "np.random.seed(0)"
   ]
  },
  {
   "cell_type": "code",
   "execution_count": 4,
   "metadata": {},
   "outputs": [],
   "source": [
    "#Generación aleatoria de los datos sesgados\n",
    "def datos_sesgados(sesgo, cantidad, maximo):\n",
    "    #distribución normal sesgada\n",
    "    aleatorios = stats.skewnorm.rvs(sesgo, loc = 2.5, size = cantidad, random_state = 0)\n",
    "    aleatorios = aleatorios + abs(aleatorios.min())\n",
    "    aleatorios = np.round(aleatorios, 2)/aleatorios.max() * maximo\n",
    "    return np.round(aleatorios, 1)\n"
   ]
  },
  {
   "cell_type": "code",
   "execution_count": null,
   "metadata": {},
   "outputs": [
    {
     "data": {
      "text/plain": [
       "array([38.8, 33.5, 34.2, ..., 34.3, 38.1, 37.4])"
      ]
     },
     "execution_count": 5,
     "metadata": {},
     "output_type": "execute_result"
    }
   ],
   "source": [
    "edades = datos_sesgados(3, 100000, 62) #edad productiva\n",
    "edades"
   ]
  },
  {
   "cell_type": "code",
   "execution_count": 6,
   "metadata": {},
   "outputs": [
    {
     "data": {
      "text/plain": [
       "19.5"
      ]
     },
     "execution_count": 6,
     "metadata": {},
     "output_type": "execute_result"
    }
   ],
   "source": [
    "edades.min()"
   ]
  },
  {
   "cell_type": "code",
   "execution_count": 7,
   "metadata": {},
   "outputs": [
    {
     "data": {
      "text/plain": [
       "62.0"
      ]
     },
     "execution_count": 7,
     "metadata": {},
     "output_type": "execute_result"
    }
   ],
   "source": [
    "edades.max()"
   ]
  },
  {
   "cell_type": "code",
   "execution_count": 8,
   "metadata": {},
   "outputs": [
    {
     "data": {
      "text/plain": [
       "33.26179799999999"
      ]
     },
     "execution_count": 8,
     "metadata": {},
     "output_type": "execute_result"
    }
   ],
   "source": [
    "edades.mean()"
   ]
  },
  {
   "cell_type": "code",
   "execution_count": null,
   "metadata": {},
   "outputs": [
    {
     "data": {
      "text/plain": [
       "array([31.5, 34.2, 34.4, 31.1, 34.1, 35.7, 32.9, 40. , 29.1, 36.2, 36.4,\n",
       "       30.3, 37.8, 31.8, 39.9, 29.9, 28.2, 31.1, 39.2, 41. , 26.7, 31.1,\n",
       "       27.8, 33.7, 28.3, 35.2, 40.4, 30.7, 34. , 29.2, 42.6, 33.3, 36.1,\n",
       "       29.7, 31.1, 37.3, 35.1, 36.3, 36.5, 39.9, 30. , 39.1, 37.9, 32.3,\n",
       "       40.2, 34.2, 36.5, 33.6, 29.2, 45.2, 32.4, 41.9, 36.5, 38.1, 30.7,\n",
       "       32.9, 33. , 32.1, 31.1, 32.6, 33.1, 32.9, 33.9, 25.9, 25.1, 35.5,\n",
       "       47.5, 42.5, 33.2, 28.7, 29.3, 34.7, 32.8, 41.9, 36.2, 34.7, 32. ,\n",
       "       43.8, 33.3, 36.1, 37.7, 35.7, 29. , 42. , 43.8, 30.6, 33.3, 34.2,\n",
       "       37.6, 37.2, 30.3, 30.6, 30.8, 30.8, 31.4, 29.8, 25.8, 35.3, 34.5,\n",
       "       29. ])"
      ]
     },
     "execution_count": 9,
     "metadata": {},
     "output_type": "execute_result"
    }
   ],
   "source": [
    "# Extracción de una muestra\n",
    "tamano_muestra = 100\n",
    "muestra = np.random.choice(edades, tamano_muestra)  # Sacar una muestra a partir de los datos generados\n",
    "muestra\n"
   ]
  },
  {
   "cell_type": "code",
   "execution_count": 10,
   "metadata": {},
   "outputs": [
    {
     "data": {
      "text/plain": [
       "array([[33.6, 30.2, 28.7, ..., 27.6, 36.2, 44.6],\n",
       "       [29.8, 29.6, 32.5, ..., 34.5, 34.2, 31.6],\n",
       "       [27. , 27.4, 38.6, ..., 31.1, 32.9, 30.8],\n",
       "       ...,\n",
       "       [29.5, 36.9, 29. , ..., 33.3, 31.7, 33.2],\n",
       "       [34.2, 33.2, 32.7, ..., 31.1, 28.2, 31.4],\n",
       "       [33.7, 31.4, 31.9, ..., 25. , 34.2, 30.6]])"
      ]
     },
     "execution_count": 10,
     "metadata": {},
     "output_type": "execute_result"
    }
   ],
   "source": [
    "muestras_generadas = np.array([])\n",
    "num_muestras = 1000\n",
    "for i in range(num_muestras):\n",
    "    muestras_generadas = np.append(muestras_generadas, np.random.choice(edades, tamano_muestra, replace=True))\n",
    "\n",
    "muestras_generadas = muestras_generadas.reshape(-1, tamano_muestra)\n",
    "muestras_generadas\n"
   ]
  },
  {
   "cell_type": "code",
   "execution_count": 12,
   "metadata": {},
   "outputs": [
    {
     "data": {
      "text/plain": [
       "(1000, 100)"
      ]
     },
     "execution_count": 12,
     "metadata": {},
     "output_type": "execute_result"
    }
   ],
   "source": [
    "muestras_generadas.shape"
   ]
  },
  {
   "cell_type": "code",
   "execution_count": 14,
   "metadata": {},
   "outputs": [
    {
     "data": {
      "image/png": "[encoded data removed]",
      "text/plain": [
       "<Figure size 640x480 with 1 Axes>"
      ]
     },
     "metadata": {},
     "output_type": "display_data"
    }
   ],
   "source": [
    "plt.hist(muestras_generadas.mean(axis=1), bins=100, color=\"red\")\n",
    "plt.xlabel(\"Edades promedio de los asegurados\")\n",
    "plt.ylabel(\"Frecuencia\")\n",
    "plt.show()\n"
   ]
  },
  {
   "cell_type": "code",
   "execution_count": null,
   "metadata": {},
   "outputs": [
    {
     "data": {
      "text/plain": [
       "array([32.40395 , 34.183125])"
      ]
     },
     "execution_count": 20,
     "metadata": {},
     "output_type": "execute_result"
    }
   ],
   "source": [
    "# Calcular el promedio y el intervalo de confianza del 95%\n",
    "promedio = muestras_generadas.mean(axis=1).mean()  # Promedio general de las edades\n",
    "int_confianza = np.quantile(muestras_generadas.mean(axis=1), [0.025, 0.975])  # 2.5% y 97.5% \n",
    "int_confianza"
   ]
  },
  {
   "cell_type": "code",
   "execution_count": null,
   "metadata": {},
   "outputs": [
    {
     "data": {
      "image/png": "[encoded data removed]",
      "text/plain": [
       "<Figure size 640x480 with 1 Axes>"
      ]
     },
     "metadata": {},
     "output_type": "display_data"
    }
   ],
   "source": [
    "# Graficar el histograma\n",
    "plt.hist(muestras_generadas.mean(axis=1), bins=100, color='gray', alpha=0.6)\n",
    "\n",
    "plt.axvline(promedio, color='blue', linestyle='-', linewidth=2, label='Promedio')\n",
    "plt.axvline(int_confianza[0], color='red', linestyle='--', linewidth=2, label='IC 95% inferior')\n",
    "plt.axvline(int_confianza[1], color='red', linestyle='--', linewidth=2, label='IC 95% superior')\n",
    "\n",
    "plt.xlabel(\"Edades promedio de los asegurados\")\n",
    "plt.ylabel(\"Frecuencia\")\n",
    "plt.legend()\n",
    "\n",
    "plt.show()\n"
   ]
  },
  {
   "cell_type": "code",
   "execution_count": 29,
   "metadata": {},
   "outputs": [
    {
     "data": {
      "text/plain": [
       "33.26307299999999"
      ]
     },
     "execution_count": 29,
     "metadata": {},
     "output_type": "execute_result"
    }
   ],
   "source": [
    "muestras_generadas.mean()"
   ]
  },
  {
   "cell_type": "code",
   "execution_count": 28,
   "metadata": {},
   "outputs": [
    {
     "data": {
      "text/plain": [
       "34.218"
      ]
     },
     "execution_count": 28,
     "metadata": {},
     "output_type": "execute_result"
    }
   ],
   "source": [
    "muestra.mean()"
   ]
  },
  {
   "cell_type": "code",
   "execution_count": 23,
   "metadata": {},
   "outputs": [
    {
     "name": "stdout",
     "output_type": "stream",
     "text": [
      "Media de la población: 33.26179799999999\n"
     ]
    }
   ],
   "source": [
    "# Calcular la media de la población (basada en los datos generados de edades)\n",
    "media_poblacion = np.mean(edades)\n",
    "print(f\"Media de la población: {media_poblacion}\")"
   ]
  }
 ],
 "metadata": {
  "kernelspec": {
   "display_name": "Python 3",
   "language": "python",
   "name": "python3"
  },
  "language_info": {
   "codemirror_mode": {
    "name": "ipython",
    "version": 3
   },
   "file_extension": ".py",
   "mimetype": "text/x-python",
   "name": "python",
   "nbconvert_exporter": "python",
   "pygments_lexer": "ipython3",
   "version": "3.9.20"
  }
 },
 "nbformat": 4,
 "nbformat_minor": 2
}
