{
 "cells": [
  {
   "cell_type": "code",
   "execution_count": 1,
   "metadata": {},
   "outputs": [],
   "source": [
    "def tasa_efectiva_anual(tasa_nominal, m):\n",
    "    tasa_efectiva = (1 + tasa_nominal / m) ** m - 1\n",
    "    return tasa_efectiva\n",
    "def tasa_efectiva_anual_desde_semestre(tasa_efectiva_semestral):\n",
    "    tasa_efectiva_anual = (1 + tasa_efectiva_semestral) ** 2 - 1\n",
    "    return tasa_efectiva_anual\n",
    "def tasa_semestral_desde_anual(tasa_efectiva_anual):\n",
    "    tasa_semestral = (1 + tasa_efectiva_anual) ** 0.5 - 1\n",
    "    return tasa_semestral\n",
    "def tasa_nominal_mensual(i_e):\n",
    "    m = 12  # Capitalización mensual\n",
    "    i_n = m * ((1 + i_e) ** (1 / m) - 1)\n",
    "    return i_n\n",
    "\n"
   ]
  },
  {
   "cell_type": "code",
   "execution_count": 2,
   "metadata": {},
   "outputs": [
    {
     "name": "stdout",
     "output_type": "stream",
     "text": [
      "Tasa efectiva anual equivalente a una nominal del 34% con capitalización mensual: 39.83%\n",
      "Tasa efectiva anual equivalente a una nominal del 36% con capitalización trimestral: 41.16%\n",
      "Tasa nominal mensual equivalente a una tasa efectiva anual del 41.16%: 34.97%\n",
      "Tasa efectiva anual equivalente a una tasa efectiva semestral del 12%: 25.44%\n",
      "Tasa semestral equivalente a una tasa efectiva anual del 12%: 5.83%\n"
     ]
    }
   ],
   "source": [
    "# 1.\n",
    "tasa_nominal = 0.34\n",
    "m = 12  # Capitalización mensual\n",
    "tasa_efectiva = tasa_efectiva_anual(tasa_nominal, m)\n",
    "print(f\"Tasa efectiva anual equivalente a una nominal del 34% con capitalización mensual: {tasa_efectiva*100:.2f}%\")\n",
    "\n",
    "# 2. \n",
    "tasa_nominal_trimestral = 0.36\n",
    "m_trimestral = 4  # Capitalización trimestral\n",
    "tasa_efectiva_trimestral = tasa_efectiva_anual(tasa_nominal_trimestral, m_trimestral)\n",
    "print(f\"Tasa efectiva anual equivalente a una nominal del 36% con capitalización trimestral: {tasa_efectiva_trimestral*100:.2f}%\")\n",
    "\n",
    "# 3. \n",
    "tasa_efectiva_anual_41_16 = 0.4116\n",
    "tasa_nominal_mensual = tasa_nominal_mensual(tasa_efectiva_anual_41_16)\n",
    "print(f\"Tasa nominal mensual equivalente a una tasa efectiva anual del 41.16%: {tasa_nominal_mensual*100:.2f}%\")\n",
    "\n",
    "# 4. \n",
    "tasa_efectiva_semestral = 0.12\n",
    "tasa_efectiva_anual_desde_semestral = tasa_efectiva_anual_desde_semestre(tasa_efectiva_semestral)\n",
    "print(f\"Tasa efectiva anual equivalente a una tasa efectiva semestral del 12%: {tasa_efectiva_anual_desde_semestral*100:.2f}%\")\n",
    "\n",
    "# 5. \n",
    "tasa_efectiva_anual_12 = 0.12\n",
    "tasa_semestral_desde_anual = tasa_semestral_desde_anual(tasa_efectiva_anual_12)\n",
    "print(f\"Tasa semestral equivalente a una tasa efectiva anual del 12%: {tasa_semestral_desde_anual*100:.2f}%\")"
   ]
  }
 ],
 "metadata": {
  "kernelspec": {
   "display_name": "Python 3",
   "language": "python",
   "name": "python3"
  },
  "language_info": {
   "codemirror_mode": {
    "name": "ipython",
    "version": 3
   },
   "file_extension": ".py",
   "mimetype": "text/x-python",
   "name": "python",
   "nbconvert_exporter": "python",
   "pygments_lexer": "ipython3",
   "version": "3.9.20"
  }
 },
 "nbformat": 4,
 "nbformat_minor": 2
}
