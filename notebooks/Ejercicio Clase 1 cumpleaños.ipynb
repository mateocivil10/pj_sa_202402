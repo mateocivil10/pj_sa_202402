{
 "cells": [
  {
   "cell_type": "code",
   "execution_count": 2,
   "id": "467ab14f-4971-4886-b6d6-b9821416d662",
   "metadata": {},
   "outputs": [],
   "source": [
    "#Importación de librerias\n",
    "import pandas as pd\n",
    "import random"
   ]
  },
  {
   "cell_type": "code",
   "execution_count": 14,
   "id": "5d1f60b0-7d52-4053-a9e8-b7ebb8c31dc5",
   "metadata": {},
   "outputs": [],
   "source": [
    "#Definición de variables\n",
    "personas=52\n",
    "dias=365\n",
    "simulaciones=10000"
   ]
  },
  {
   "cell_type": "code",
   "execution_count": 19,
   "id": "f3cecab7-2155-428b-81aa-e2d32f8a29eb",
   "metadata": {},
   "outputs": [],
   "source": [
    "#Contador de repeticiones\n",
    "contador=0\n",
    "#Random de los días de cumpleaños\n",
    "for _ in range(simulaciones):\n",
    "    cumpleaños_1 = [random.randint(1, dias) for _ in range(personas)]\n",
    "    \n",
    "    #Comparación de los días de la lista\n",
    "    if len(cumpleaños_1) > len(set(cumpleaños_1)):\n",
    "        contador +=1\n",
    "probabilidad = contador / simulaciones\n"
   ]
  },
  {
   "cell_type": "code",
   "execution_count": 20,
   "id": "4548e127-b1f8-4cd5-aa5b-6228ecdaacfd",
   "metadata": {},
   "outputs": [
    {
     "data": {
      "text/plain": [
       "0.9748"
      ]
     },
     "execution_count": 20,
     "metadata": {},
     "output_type": "execute_result"
    }
   ],
   "source": [
    "probabilidad"
   ]
  }
 ],
 "metadata": {
  "kernelspec": {
   "display_name": "Python 3 (ipykernel)",
   "language": "python",
   "name": "python3"
  },
  "language_info": {
   "codemirror_mode": {
    "name": "ipython",
    "version": 3
   },
   "file_extension": ".py",
   "mimetype": "text/x-python",
   "name": "python",
   "nbconvert_exporter": "python",
   "pygments_lexer": "ipython3",
   "version": "3.9.20"
  }
 },
 "nbformat": 4,
 "nbformat_minor": 5
}
