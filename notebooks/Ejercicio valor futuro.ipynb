{
 "cells": [
  {
   "cell_type": "code",
   "execution_count": 1,
   "id": "0f288c36-64cf-4124-8402-6da65fd01835",
   "metadata": {},
   "outputs": [],
   "source": [
    "# Importación de librerias\n",
    "import numpy as np\n",
    "import matplotlib.pyplot as plt"
   ]
  },
  {
   "cell_type": "code",
   "execution_count": 10,
   "id": "08c3527d-a42c-4bc0-ab36-d7ef804c128e",
   "metadata": {},
   "outputs": [
    {
     "name": "stdout",
     "output_type": "stream",
     "text": [
      "Tasa efectiva anual: 39.8321%\n"
     ]
    }
   ],
   "source": [
    "#Ejercicio 1\n",
    "#Calcular la tasa nominal anual del 34% con capitalizacion mensual\n",
    "def tasa_efectiva_anual(tasa_nominal_anual, capitalizacion_mensual):\n",
    "    return (1 + tasa_nominal_anual / capitalizacion_mensual) ** capitalizacion_mensual - 1\n",
    "\n",
    "# Parámetros\n",
    "tasa_nominal_anual = 0.34  # 34%\n",
    "capitalizacion_mensual = 12\n",
    "tea = tasa_efectiva_anual(tasa_nominal_anual, capitalizacion_mensual)\n",
    "print(f\"Tasa efectiva anual: {tea:.4%}\")"
   ]
  },
  {
   "cell_type": "code",
   "execution_count": 11,
   "id": "05808dff-e8fd-433d-91ff-614f2e0d8f9b",
   "metadata": {},
   "outputs": [
    {
     "name": "stdout",
     "output_type": "stream",
     "text": [
      "Tasa efectiva anual (capitalización trimestral): 41.1582%\n"
     ]
    }
   ],
   "source": [
    "#Ejercicio 2\n",
    "tasa_nominal_anual_trimestral = 0.36  # 36%\n",
    "capitalizacion_trimestral = 4\n",
    "tea_trimestral = tasa_efectiva_anual(tasa_nominal_anual_trimestral, capitalizacion_trimestral)\n",
    "print(f\"Tasa efectiva anual (capitalización trimestral): {tea_trimestral:.4%}\")\n"
   ]
  },
  {
   "cell_type": "code",
   "execution_count": 14,
   "id": "680811c2-49bc-4a3b-ae31-9eda293514ec",
   "metadata": {},
   "outputs": [
    {
     "name": "stdout",
     "output_type": "stream",
     "text": [
      "Tasa nominal mensual: 34.9723%\n"
     ]
    }
   ],
   "source": [
    "#Ejercicio 3\n",
    "def tasa_nominal_mensual(tasa_efectiva_anual, capitalizacion_mensual):\n",
    "    return capitalizacion_mensual * ((1 + tasa_efectiva_anual) ** (1 / capitalizacion_mensual) - 1)\n",
    "\n",
    "# Ejemplo\n",
    "tasa_efectiva_anual_dada = 0.4116  # 41.16%\n",
    "capitalizacion_mensual = 12\n",
    "tasa_nominal_mensual = tasa_nominal_mensual(tasa_efectiva_anual_dada, capitalizacion_mensual)\n",
    "print(f\"Tasa nominal mensual: {tasa_nominal_mensual:.4%}\")\n"
   ]
  },
  {
   "cell_type": "code",
   "execution_count": 16,
   "id": "a0ed9b5d-0af7-4e27-8ef2-eeecda8d834e",
   "metadata": {},
   "outputs": [
    {
     "name": "stdout",
     "output_type": "stream",
     "text": [
      "Tasa efectiva anual (desde tasa semestral): 25.4400%\n"
     ]
    }
   ],
   "source": [
    "#Ejercicio 4\n",
    "def tasa_efectiva_anual_desde_semestral(tasa_efectiva_semestral):\n",
    "    return (1 + tasa_efectiva_semestral) ** 2 - 1\n",
    "\n",
    "# Ejemplo\n",
    "tasa_efectiva_semestral = 0.12  # 12%\n",
    "tea_desde_semestral = tasa_efectiva_anual_desde_semestral(tasa_efectiva_semestral)\n",
    "print(f\"Tasa efectiva anual (desde tasa semestral): {tea_desde_semestral:.4%}\")\n"
   ]
  },
  {
   "cell_type": "code",
   "execution_count": 17,
   "id": "0037d091-a34b-4752-996a-babfcd0ac787",
   "metadata": {},
   "outputs": [
    {
     "name": "stdout",
     "output_type": "stream",
     "text": [
      "Tasa efectiva semestral: 5.8301%\n"
     ]
    }
   ],
   "source": [
    "#Ejercicio 5\n",
    "def tasa_efectiva_semestral_desde_anual(tasa_efectiva_anual):\n",
    "    return (1 + tasa_efectiva_anual) ** (1 / 2) - 1\n",
    "\n",
    "# Ejemplo\n",
    "tasa_efectiva_anual_dada = 0.12  # 12%\n",
    "tasa_efectiva_semestral = tasa_efectiva_semestral_desde_anual(tasa_efectiva_anual_dada)\n",
    "print(f\"Tasa efectiva semestral: {tasa_efectiva_semestral:.4%}\")"
   ]
  }
 ],
 "metadata": {
  "kernelspec": {
   "display_name": "Python 3 (ipykernel)",
   "language": "python",
   "name": "python3"
  },
  "language_info": {
   "codemirror_mode": {
    "name": "ipython",
    "version": 3
   },
   "file_extension": ".py",
   "mimetype": "text/x-python",
   "name": "python",
   "nbconvert_exporter": "python",
   "pygments_lexer": "ipython3",
   "version": "3.9.20"
  }
 },
 "nbformat": 4,
 "nbformat_minor": 5
}
