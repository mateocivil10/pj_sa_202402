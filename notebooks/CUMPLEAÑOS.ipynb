{
  "nbformat": 4,
  "nbformat_minor": 0,
  "metadata": {
    "colab": {
      "provenance": []
    },
    "kernelspec": {
      "name": "python3",
      "display_name": "Python 3"
    },
    "language_info": {
      "name": "python"
    }
  },
  "cells": [
    {
      "cell_type": "code",
      "execution_count": null,
      "metadata": {
        "colab": {
          "base_uri": "https://localhost:8080/"
        },
        "id": "RBUBycT2JR-o",
        "outputId": "bc5c9cba-7e76-458f-cf25-854ac72693d7"
      },
      "outputs": [
        {
          "output_type": "stream",
          "name": "stdout",
          "text": [
            "La probabilidad de que al menos dos personas de un grupo de 52 compartan el mismo cumpleaños es aproximadamente 97.80%.\n"
          ]
        }
      ],
      "source": [
        "#numero de personas y días en el año\n",
        "n_personas = 52\n",
        "dias_año = 365\n",
        "\n",
        "#probabilidad de que todos los cumpleaños sean únicos\n",
        "prob_no_cumplir = 1.0\n",
        "for i in range(n_personas):\n",
        "    prob_no_cumplir *= (dias_año - i) / dias_año\n",
        "\n",
        "#probabilidad de que al menos dos personas compartan el mismo día de cumpleaños\n",
        "prob_2_personas = 1 - prob_no_cumplir\n",
        "\n",
        "#print (prob_no_cumplir)\n",
        "\n",
        "print(f\"La probabilidad de que al menos dos personas de un grupo de {n_personas} compartan el mismo cumpleaños es aproximadamente {prob_2_personas:.2%}.\")"
      ]
    },
    {
      "cell_type": "code",
      "source": [
        "import random\n",
        "\n",
        "# Número de personas y días en el año\n",
        "n_people = 52\n",
        "days_in_year = 365\n",
        "\n",
        "# Número de simulaciones\n",
        "n_simulations = 100000  # Puedes ajustar esta variable para mayor precisión\n",
        "\n",
        "# Contador para el número de veces que al menos dos personas comparten cumpleaños\n",
        "shared_birthday_count = 0\n",
        "\n",
        "for _ in range(n_simulations):\n",
        "    # Genera una lista de cumpleaños aleatorios para las personas\n",
        "    birthdays = [random.randint(1, days_in_year) for _ in range(n_people)]\n",
        "\n",
        "    # Verifica si hay cumpleaños repetidos\n",
        "    if len(birthdays) != len(set(birthdays)):\n",
        "        shared_birthday_count += 1\n",
        "\n",
        "# Calcula la probabilidad de al menos una coincidencia\n",
        "prob_at_least_one_match = shared_birthday_count / n_simulations\n",
        "\n",
        "print(f\"La probabilidad de que al menos dos personas de un grupo de {n_people} compartan el mismo cumpleaños es aproximadamente {prob_at_least_one_match:.2%}.\")"
      ],
      "metadata": {
        "colab": {
          "base_uri": "https://localhost:8080/"
        },
        "id": "GhH-M_6pMbOH",
        "outputId": "7849dc88-2dc1-4dfd-a619-60fb411ab2de"
      },
      "execution_count": null,
      "outputs": [
        {
          "output_type": "stream",
          "name": "stdout",
          "text": [
            "La probabilidad de que al menos dos personas de un grupo de 52 compartan el mismo cumpleaños es aproximadamente 97.71%.\n"
          ]
        }
      ]
    }
  ]
}