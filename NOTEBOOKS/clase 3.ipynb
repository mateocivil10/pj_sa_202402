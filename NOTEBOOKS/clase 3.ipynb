{
 "cells": [
  {
   "cell_type": "code",
   "execution_count": 1,
   "metadata": {},
   "outputs": [
    {
     "name": "stdout",
     "output_type": "stream",
     "text": [
      "Probabilidad de fallecer antes de los 66 años: 4.00%\n",
      "Probabilidad de sobrevivir hasta los 67 años: 92.16%\n"
     ]
    }
   ],
   "source": [
    "# Probabilidad de que una persona de 65 años sobreviva hasta los 66 años\n",
    "probabilidad_supervivencia_65_66 = 0.96\n",
    "\n",
    "# Probabilidad de que una persona de 65 años fallezca antes de los 66 años\n",
    "probabilidad_fallecimiento_65_66 = 1 - probabilidad_supervivencia_65_66\n",
    "print(f\"Probabilidad de fallecer antes de los 66 años: {probabilidad_fallecimiento_65_66 * 100:.2f}%\")\n",
    "\n",
    "# Probabilidad de que una persona de 65 años sobreviva hasta los 67 años\n",
    "# Esto es la probabilidad de sobrevivir 2 años consecutivos (65-66 y 66-67)\n",
    "probabilidad_supervivencia_65_67 = probabilidad_supervivencia_65_66 * probabilidad_supervivencia_65_66\n",
    "print(f\"Probabilidad de sobrevivir hasta los 67 años: {probabilidad_supervivencia_65_67 * 100:.2f}%\")\n"
   ]
  },
  {
   "cell_type": "code",
   "execution_count": 2,
   "metadata": {},
   "outputs": [
    {
     "name": "stdout",
     "output_type": "stream",
     "text": [
      "Probabilidad de que sobreviva hasta los 51 años: 0.9850\n",
      "Probabilidad de que fallezca antes de los 51 años: 0.0150\n"
     ]
    }
   ],
   "source": [
    "# Probabilidad de que fallezca antes de los 51 años\n",
    "prob_fallecer = 0.015\n",
    "\n",
    "# Probabilidad de que sobreviva hasta los 51 años\n",
    "prob_sobrevivir = 1 - prob_fallecer\n",
    "\n",
    "# Mostrar los resultados\n",
    "print(f\"Probabilidad de que sobreviva hasta los 51 años: {prob_sobrevivir:.4f}\")\n",
    "print(f\"Probabilidad de que fallezca antes de los 51 años: {prob_fallecer:.4f}\")\n"
   ]
  },
  {
   "cell_type": "code",
   "execution_count": 3,
   "metadata": {},
   "outputs": [
    {
     "name": "stdout",
     "output_type": "stream",
     "text": [
      "Probabilidad de sobrevivir hasta los 72 años: 87.40%\n",
      "Probabilidad de fallecer antes de los 72 años: 12.60%\n"
     ]
    }
   ],
   "source": [
    "# Probabilidades de supervivencia según la tabla de mortalidad\n",
    "p_70 = 0.95  # Probabilidad de sobrevivir de 70 a 71\n",
    "p_71 = 0.92  # Probabilidad de sobrevivir de 71 a 72\n",
    "\n",
    "# Probabilidad de sobrevivir hasta los 72 años (producto de las probabilidades de cada año)\n",
    "probabilidad_supervivencia_70_72 = p_70 * p_71\n",
    "print(f\"Probabilidad de sobrevivir hasta los 72 años: {probabilidad_supervivencia_70_72 * 100:.2f}%\")\n",
    "\n",
    "# Probabilidad de fallecer antes de los 72 años (complemento de la probabilidad de sobrevivir)\n",
    "probabilidad_fallecer_antes_72 = 1 - probabilidad_supervivencia_70_72\n",
    "print(f\"Probabilidad de fallecer antes de los 72 años: {probabilidad_fallecer_antes_72 * 100:.2f}%\")\n"
   ]
  },
  {
   "cell_type": "code",
   "execution_count": 4,
   "metadata": {},
   "outputs": [
    {
     "name": "stdout",
     "output_type": "stream",
     "text": [
      "Probabilidad de fallecer antes de los 61 años (q_60): 3.00%\n",
      "Probabilidad de sobrevivir hasta los 62 años: 93.60%\n"
     ]
    }
   ],
   "source": [
    "# Datos proporcionados\n",
    "p_60 = 0.97  # Probabilidad de sobrevivir de 60 a 61\n",
    "q_61 = 0.035  # Probabilidad de fallecer de 61 a 62\n",
    "\n",
    "# Calcular q_60 (probabilidad de fallecer antes de los 61)\n",
    "q_60 = 1 - p_60\n",
    "print(f\"Probabilidad de fallecer antes de los 61 años (q_60): {q_60 * 100:.2f}%\")\n",
    "\n",
    "# Calcular la probabilidad de sobrevivir hasta los 62 años\n",
    "p_61 = 1 - q_61  # Probabilidad de sobrevivir de 61 a 62\n",
    "probabilidad_supervivencia_60_62 = p_60 * p_61\n",
    "print(f\"Probabilidad de sobrevivir hasta los 62 años: {probabilidad_supervivencia_60_62 * 100:.2f}%\")\n"
   ]
  },
  {
   "cell_type": "code",
   "execution_count": 28,
   "metadata": {},
   "outputs": [
    {
     "name": "stdout",
     "output_type": "stream",
     "text": [
      "     Mes  Aporte Mensual  Saldo Acumulado\n",
      "0      1       1120000.0     9.744373e+07\n",
      "1      2       1120000.0     9.889228e+07\n",
      "2      3       1120000.0     1.003457e+08\n",
      "3      4       1120000.0     1.018039e+08\n",
      "4      5       1120000.0     1.032670e+08\n",
      "..   ...             ...              ...\n",
      "379  380       1120000.0     1.196790e+09\n",
      "380  381       1120000.0     1.201903e+09\n",
      "381  382       1120000.0     1.207033e+09\n",
      "382  383       1120000.0     1.212180e+09\n",
      "383  384       1120000.0     1.217344e+09\n",
      "\n",
      "[384 rows x 3 columns]\n",
      "Reserva Actuarial acumulada al final de los 32 años: $1,217,344,234.40\n"
     ]
    }
   ],
   "source": [
    "import pandas as pd\n",
    "\n",
    "# Función para generar la tabla de ahorro mes a mes\n",
    "def generar_tabla_ahorro_mensual(salario, tasa_aporte, tasa_interes_mensual, meses, ahorro_inicial):\n",
    "    aporte_mensual = salario * tasa_aporte  # Aporte mensual\n",
    "    saldo_acumulado = ahorro_inicial  # Comenzamos con el ahorro inicial\n",
    "    \n",
    "    tabla_ahorro = []\n",
    "\n",
    "    for mes in range(1, meses + 1):\n",
    "        # Calculamos el saldo acumulado con interés compuesto\n",
    "        saldo_acumulado = (saldo_acumulado + aporte_mensual) * (1 + tasa_interes_mensual)\n",
    "        \n",
    "        # Añadimos el resultado a la tabla\n",
    "        tabla_ahorro.append({\n",
    "            \"Mes\": mes, \n",
    "            \"Aporte Mensual\": round(aporte_mensual, 2),  # Redondeamos el aporte mensual a dos decimales\n",
    "            \"Saldo Acumulado\": round(saldo_acumulado, 2)  # Redondeamos el saldo acumulado\n",
    "        })\n",
    "\n",
    "    # Convertimos la lista de resultados en un DataFrame de pandas\n",
    "    return pd.DataFrame(tabla_ahorro)\n",
    "\n",
    "# Función para calcular la reserva actuarial (monto acumulado al final de los 32 años)\n",
    "def calcular_reserva_actuarial(salario, tasa_aporte, tasa_interes_mensual, meses, ahorro_inicial):\n",
    "    saldo_acumulado = ahorro_inicial  # Comenzamos con el ahorro inicial\n",
    "    for mes in range(1, meses + 1):\n",
    "        saldo_acumulado = (saldo_acumulado + salario * tasa_aporte) * (1 + tasa_interes_mensual)\n",
    "    return round(saldo_acumulado, 2)\n",
    "\n",
    "# Parámetros\n",
    "salario = 7000000\n",
    "tasa_aporte = 0.16\n",
    "tasa_interes_anual = 0.04  # Tasa anual de interés\n",
    "tasa_interes_mensual = tasa_interes_anual / 12  # Convertimos a mensual\n",
    "meses_aporte = 32 * 12  # 32 años en meses\n",
    "ahorro_inicial = 96000000  # Ahorro inicial de 96 millones\n",
    "\n",
    "# Generar la tabla de ahorro mensual\n",
    "tabla_ahorro_mensual = generar_tabla_ahorro_mensual(salario, tasa_aporte, tasa_interes_mensual, meses_aporte, ahorro_inicial)\n",
    "\n",
    "# Calcular la reserva actuarial (monto acumulado al final de los 32 años)\n",
    "ahorro_total = calcular_reserva_actuarial(salario, tasa_aporte, tasa_interes_mensual, meses_aporte, ahorro_inicial)\n",
    "\n",
    "# Mostrar la tabla\n",
    "print(tabla_ahorro_mensual)\n",
    "\n",
    "# Mostrar la reserva actuarial al final del periodo\n",
    "print(f\"Reserva Actuarial acumulada al final de los 32 años: ${ahorro_total:,.2f}\")\n"
   ]
  },
  {
   "cell_type": "code",
   "execution_count": 23,
   "metadata": {},
   "outputs": [
    {
     "name": "stdout",
     "output_type": "stream",
     "text": [
      "     Mes  Aporte Mensual  Saldo Acumulado\n",
      "0      1       1120000.0     1.123733e+06\n",
      "1      2       1120000.0     2.251212e+06\n",
      "2      3       1120000.0     3.382450e+06\n",
      "3      4       1120000.0     4.517458e+06\n",
      "4      5       1120000.0     5.656250e+06\n",
      "..   ...             ...              ...\n",
      "379  380       1120000.0     8.568023e+08\n",
      "380  381       1120000.0     8.607820e+08\n",
      "381  382       1120000.0     8.647750e+08\n",
      "382  383       1120000.0     8.687813e+08\n",
      "383  384       1120000.0     8.728010e+08\n",
      "\n",
      "[384 rows x 3 columns]\n",
      "Reserva Actuarial acumulada al final de los 32 años: $872,800,998.11\n"
     ]
    }
   ],
   "source": [
    "import pandas as pd\n",
    "from funciones import *\n",
    "\n",
    "salario = 7000000\n",
    "tasa_aporte = 0.16\n",
    "tasa_interes_anual = 0.04  # Tasa anual de interés\n",
    "tasa_interes_mensual = tasa_interes_anual / 12  # Convertimos a mensual\n",
    "meses_aporte = 32 * 12  # 32 años en meses\n",
    "# Generar la tabla de ahorro mensual\n",
    "tabla_ahorro_mensual = generar_tabla_ahorro_mensual(salario, tasa_aporte, tasa_interes_mensual, meses_aporte)\n",
    "# Calcular la reserva actuarial (monto acumulado al final de los 32 años)\n",
    "ahorro_total = calcular_reserva_actuarial(salario, tasa_aporte, tasa_interes_mensual, meses_aporte)\n",
    "# Mostrar la tabla\n",
    "print(tabla_ahorro_mensual)\n",
    "# Mostrar la reserva actuarial al final del periodo\n",
    "print(f\"Reserva Actuarial acumulada al final de los 32 años: ${ahorro_total:,.2f}\")\n"
   ]
  },
  {
   "cell_type": "code",
   "execution_count": 20,
   "metadata": {},
   "outputs": [
    {
     "name": "stdout",
     "output_type": "stream",
     "text": [
      "            x            l(x)      q(x)      p(x)\n",
      "0   15.000000  1000000.000000  0.000040  0.999960\n",
      "1   15.083333   999959.583333  0.000040  0.999960\n",
      "2   15.166667   999919.166667  0.000040  0.999960\n",
      "3   15.250000   999878.750000  0.000040  0.999960\n",
      "4   15.333333   999838.333333  0.000040  0.999960\n",
      "5   15.416667   999797.916667  0.000040  0.999960\n",
      "6   15.500000   999757.500000  0.000040  0.999960\n",
      "7   15.583333   999717.083333  0.000040  0.999960\n",
      "8   15.666667   999676.666667  0.000040  0.999960\n",
      "9   15.750000   999636.250000  0.000040  0.999960\n",
      "10  15.833333   999595.833333  0.000040  0.999960\n",
      "11  15.916667   999555.416667  0.000040  0.999960\n",
      "12  16.000000   999515.000000  0.000041  0.999959\n",
      "             x      l(x)      q(x)      p(x)\n",
      "564  62.000000  897019.0  0.000766  0.999234\n",
      "565  62.083333  896331.5  0.000767  0.999233\n",
      "566  62.166667  895644.0  0.000768  0.999232\n",
      "567  62.250000  894956.5  0.000768  0.999232\n",
      "568  62.333333  894269.0  0.000769  0.999231\n",
      "569  62.416667  893581.5  0.000769  0.999231\n",
      "570  62.500000  892894.0  0.000770  0.999230\n",
      "571  62.583333  892206.5  0.000771  0.999229\n",
      "572  62.666667  891519.0  0.000771  0.999229\n",
      "573  62.750000  890831.5  0.000772  0.999228\n",
      "574  62.833333  890144.0  0.000772  0.999228\n",
      "575  62.916667  889456.5  0.000773  0.999227\n",
      "576  63.000000  888769.0  0.000856  0.999144\n"
     ]
    }
   ],
   "source": [
    "from funciones import *\n",
    "\n",
    "\n",
    "archivo_excel = r'C:\\Users\\ingse\\OneDrive\\Desktop\\repositorio\\pj_sa_202402\\FILES\\TM_hombres.xlsx'\n",
    "df = pd.read_excel(archivo_excel)\n",
    "edad_jubilacion=62\n",
    "tm_hombre=(TMensual(df))\n",
    "print(tm_hombre.head(13)) \n",
    "tm_hombre=tmort_filtered(tm_hombre,edad_jubilacion)\n",
    "print(tm_hombre.head(13)) \n"
   ]
  },
  {
   "cell_type": "code",
   "execution_count": null,
   "metadata": {},
   "outputs": [
    {
     "name": "stdout",
     "output_type": "stream",
     "text": [
      "254.5545084058316\n",
      "4782253.679275679\n"
     ]
    }
   ],
   "source": [
    "tm_hombre['n']=tm_hombre['x'].apply(lambda X:X -edad_jubilacion)*12\n",
    "i = 0.04/12\n",
    "tm_hombre['Vn'] = np.ones(len(tm_hombre))*(1/(1+i))\n",
    "tm_hombre['Vn'] = tm_hombre.apply(lambda row: row['Vn'] ** row['n'],axis=1)\n",
    "sum_vect = tm_hombre['p(x)']*tm_hombre['Vn']\n",
    "suma = sum_vect.sum()\n",
    "print(suma)\n",
    "c = ahorro_total/suma\n",
    "c=\n",
    "print(c)"
   ]
  },
  {
   "cell_type": "code",
   "execution_count": 31,
   "metadata": {},
   "outputs": [
    {
     "name": "stdout",
     "output_type": "stream",
     "text": [
      "     Mes  Aporte Mensual  Saldo Acumulado\n",
      "0      1       1120000.0     9.744373e+07\n",
      "1      2       1120000.0     9.889228e+07\n",
      "2      3       1120000.0     1.003457e+08\n",
      "3      4       1120000.0     1.018039e+08\n",
      "4      5       1120000.0     1.032670e+08\n",
      "..   ...             ...              ...\n",
      "379  380       1120000.0     1.196790e+09\n",
      "380  381       1120000.0     1.201903e+09\n",
      "381  382       1120000.0     1.207033e+09\n",
      "382  383       1120000.0     1.212180e+09\n",
      "383  384       1120000.0     1.217344e+09\n",
      "\n",
      "[384 rows x 3 columns]\n",
      "Reserva Actuarial acumulada al final de los 32 años: $1,217,344,234.40\n"
     ]
    }
   ],
   "source": [
    "import pandas as pd\n",
    "\n",
    "# Función para generar la tabla de ahorro mes a mes\n",
    "def generar_tabla_ahorro_mensual(salario, tasa_aporte, tasa_interes_mensual, meses, ahorro_inicial):\n",
    "    aporte_mensual = salario * tasa_aporte  # Aporte mensual\n",
    "    saldo_acumulado = ahorro_inicial  # Comenzamos con el ahorro inicial\n",
    "    \n",
    "    tabla_ahorro = []\n",
    "\n",
    "    for mes in range(1, meses + 1):\n",
    "        # Calculamos el saldo acumulado solo para los aportes (el ahorro inicial no genera intereses)\n",
    "        saldo_acumulado = saldo_acumulado + aporte_mensual\n",
    "        saldo_acumulado = saldo_acumulado * (1 + tasa_interes_mensual)  # Solo los aportes generan interés\n",
    "        \n",
    "        # Añadimos el resultado a la tabla\n",
    "        tabla_ahorro.append({\n",
    "            \"Mes\": mes, \n",
    "            \"Aporte Mensual\": round(aporte_mensual, 2),  # Redondeamos el aporte mensual a dos decimales\n",
    "            \"Saldo Acumulado\": round(saldo_acumulado, 2)  # Redondeamos el saldo acumulado\n",
    "        })\n",
    "\n",
    "    # Convertimos la lista de resultados en un DataFrame de pandas\n",
    "    return pd.DataFrame(tabla_ahorro)\n",
    "\n",
    "# Función para calcular la reserva actuarial (monto acumulado al final de los 32 años)\n",
    "def calcular_reserva_actuarial(salario, tasa_aporte, tasa_interes_mensual, meses, ahorro_inicial):\n",
    "    saldo_acumulado = ahorro_inicial  # Comenzamos con el ahorro inicial\n",
    "    for mes in range(1, meses + 1):\n",
    "        # Calculamos el saldo acumulado solo para los aportes (el ahorro inicial no genera intereses)\n",
    "        saldo_acumulado = saldo_acumulado + salario * tasa_aporte\n",
    "        saldo_acumulado = saldo_acumulado * (1 + tasa_interes_mensual)  # Solo los aportes generan interés\n",
    "    return round(saldo_acumulado, 2)\n",
    "\n",
    "# Parámetros\n",
    "salario = 7000000\n",
    "tasa_aporte = 0.16\n",
    "tasa_interes_anual = 0.04  # Tasa anual de interés\n",
    "tasa_interes_mensual = tasa_interes_anual / 12  # Convertimos a mensual\n",
    "meses_aporte = 32 * 12  # 32 años en meses\n",
    "ahorro_inicial = 96000000  # Ahorro inicial de 96 millones\n",
    "\n",
    "# Generar la tabla de ahorro mensual\n",
    "tabla_ahorro_mensual = generar_tabla_ahorro_mensual(salario, tasa_aporte, tasa_interes_mensual, meses_aporte, ahorro_inicial)\n",
    "\n",
    "# Calcular la reserva actuarial (monto acumulado al final de los 32 años)\n",
    "ahorro_total = calcular_reserva_actuarial(salario, tasa_aporte, tasa_interes_mensual, meses_aporte, ahorro_inicial)\n",
    "\n",
    "# Mostrar la tabla\n",
    "print(tabla_ahorro_mensual)\n",
    "\n",
    "# Mostrar la reserva actuarial al final del periodo\n",
    "print(f\"Reserva Actuarial acumulada al final de los 32 años: ${ahorro_total:,.2f}\")\n"
   ]
  },
  {
   "cell_type": "code",
   "execution_count": null,
   "metadata": {},
   "outputs": [],
   "source": [
    "T"
   ]
  }
 ],
 "metadata": {
  "kernelspec": {
   "display_name": "Python 3",
   "language": "python",
   "name": "python3"
  },
  "language_info": {
   "codemirror_mode": {
    "name": "ipython",
    "version": 3
   },
   "file_extension": ".py",
   "mimetype": "text/x-python",
   "name": "python",
   "nbconvert_exporter": "python",
   "pygments_lexer": "ipython3",
   "version": "3.9.20"
  }
 },
 "nbformat": 4,
 "nbformat_minor": 2
}
