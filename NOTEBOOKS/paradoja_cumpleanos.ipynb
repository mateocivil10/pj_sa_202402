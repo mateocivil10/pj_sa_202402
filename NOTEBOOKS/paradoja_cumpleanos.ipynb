{
 "cells": [
  {
   "cell_type": "code",
   "execution_count": null,
   "id": "d87f452c-ab13-4b54-af34-30bc101cdd39",
   "metadata": {},
   "outputs": [
    {
     "name": "stdout",
     "output_type": "stream",
     "text": [
      "La probabilidad de que en 52 personas, dos cumplan años el mismo día es: 96.00%\n"
     ]
    }
   ],
   "source": [
    "import random\n",
    "\n",
    "def cumpleanos(n):\n",
    "    return [random.randint(1, 365) for _ in range(n)]# Genera 365 dias del año\n",
    "\n",
    "def compara(cumpleanos): #comparador\n",
    "    return len(cumpleanos) != len(set(cumpleanos))\n",
    "\n",
    "def p_cumple(muestra, interador):\n",
    "    coincidencias = 0\n",
    "    for _ in range(interador):\n",
    "        if compara(cumpleanos(muestra)):\n",
    "            coincidencias += 1\n",
    "    return coincidencias / interador\n",
    "\n",
    "muestra = 52 #grupo  muestral \n",
    "interador = 100 #cantidad de iteraciones\n",
    "\n",
    "\n",
    "prob = p_cumple(muestra, interador) #funcion probabilidad\n",
    "print(f'La probabilidad de que en {muestra} personas, dos cumplan años el mismo día es: {prob:.2%}')\n"
   ]
  }
 ],
 "metadata": {
  "kernelspec": {
   "display_name": "Python 3 (ipykernel)",
   "language": "python",
   "name": "python3"
  },
  "language_info": {
   "codemirror_mode": {
    "name": "ipython",
    "version": 3
   },
   "file_extension": ".py",
   "mimetype": "text/x-python",
   "name": "python",
   "nbconvert_exporter": "python",
   "pygments_lexer": "ipython3",
   "version": "3.9.20"
  }
 },
 "nbformat": 4,
 "nbformat_minor": 5
}
