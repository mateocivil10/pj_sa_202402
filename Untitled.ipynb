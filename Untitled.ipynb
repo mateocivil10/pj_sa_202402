{
 "cells": [
  {
   "cell_type": "code",
   "execution_count": 10,
   "id": "8e959974-a689-4393-8859-50910e35724b",
   "metadata": {},
   "outputs": [
    {
     "name": "stdout",
     "output_type": "stream",
     "text": [
      "La tasa nominal mensual es: 0.1228\n"
     ]
    }
   ],
   "source": [
    "def convertir_tasa_efectiva_anual_a_nominal_mensual(tasa_efectiva_anual):\n",
    "    \n",
    "    num_periodos = 12  # Capitalización mensual\n",
    "    tasa_nominal_mensual = num_periodos * ((1 + tasa_efectiva_anual) ** (1 / num_periodos) - 1)\n",
    "    return tasa_nominal_mensual\n",
    "\n",
    "# Ejemplo de uso\n",
    "tasa_efectiva_anual = 0.13  # Tasa efectiva \n",
    "tasa_nominal_mensual = convertir_tasa_efectiva_anual_a_nominal_mensual(tasa_efectiva_anual)\n",
    "print(f\"La tasa nominal mensual es: {tasa_nominal_mensual:.4f}\")"
   ]
  },
  {
   "cell_type": "code",
   "execution_count": 19,
   "id": "a73779d8-64fb-4ddb-8dd8-be34bccef823",
   "metadata": {},
   "outputs": [],
   "source": [
    "import pandas as pd\n",
    "\n",
    "def tabla_amortizacion(prestamo, tasa_int_anual, años):\n",
    "    # Convertir la tasa de interés anual a tasa de interés mensual\n",
    "    interes_mensual = convertir_tasa_efectiva_anual_a_nominal_mensual(tasa_int_anual)/12\n",
    "    \n",
    "    # Número total de pagos (meses)\n",
    "    total_cuotas = años * 12\n",
    "    \n",
    "    # Inicializar listas para almacenar la tabla de amortización\n",
    "    payment_number = []\n",
    "    beginning_balance = []\n",
    "    scheduled_payment = []\n",
    "    principal_payment = []\n",
    "    interest_payment = []\n",
    "    ending_balance = []\n",
    "    \n",
    "    # Calcular el pago mensual usando la fórmula de una anualidad\n",
    "    pago_cuota = prestamo * (interes_mensual * (1 + interes_mensual) ** total_cuotas) / ((1 + interes_mensual) ** total_cuotas - 1)\n",
    "    \n",
    "    # Inicializar el balance\n",
    "    balance = prestamo\n",
    "    \n",
    "    for i in range(1, total_cuotas + 1):\n",
    "        # Calcular el interés para el mes actual\n",
    "        interes = balance * interes_mensual\n",
    "        # Calcular el pago del principal para el mes actual\n",
    "        pago_capital = pago_cuota - interes\n",
    "        # Calcular el balance final para el mes actual\n",
    "        valor_final_balance = balance - pago_capital\n",
    "        \n",
    "        # Agregar valores a las listas\n",
    "        payment_number.append(i)\n",
    "        beginning_balance.append(balance)\n",
    "        scheduled_payment.append(pago_cuota)\n",
    "        principal_payment.append(pago_capital)\n",
    "        interest_payment.append(interes)\n",
    "        ending_balance.append(valor_final_balance)\n",
    "        \n",
    "        # Actualizar el balance para el próximo mes\n",
    "        balance = valor_final_balance\n",
    "    \n",
    "    # Crear un DataFrame para almacenar la tabla de amortización\n",
    "    t_amortizacion = pd.DataFrame({\n",
    "        'Número de Pago': payment_number,\n",
    "        'Valor Inicial': beginning_balance,\n",
    "        'Pago Cuota': scheduled_payment,\n",
    "        'Amortizacion Capital': principal_payment,\n",
    "        'Pago de Intereses': interest_payment,\n",
    "        'Balance Final': ending_balance\n",
    "    })\n",
    "    \n",
    "    return t_amortizacion\n",
    "\n",
    "\n"
   ]
  },
  {
   "cell_type": "code",
   "execution_count": 21,
   "id": "db8c125c-6db2-4076-a5f6-dda1ce2a707c",
   "metadata": {},
   "outputs": [
    {
     "name": "stdout",
     "output_type": "stream",
     "text": [
      "     Número de Pago  Valor Inicial    Pago Cuota  Amortizacion Capital  \\\n",
      "0                 1   2.100000e+08  2.354025e+06          2.042877e+05   \n",
      "1                 2   2.097957e+08  2.354025e+06          2.063790e+05   \n",
      "2                 3   2.095893e+08  2.354025e+06          2.084916e+05   \n",
      "3                 4   2.093808e+08  2.354025e+06          2.106259e+05   \n",
      "4                 5   2.091702e+08  2.354025e+06          2.127821e+05   \n",
      "..              ...            ...           ...                   ...   \n",
      "235             236   1.141712e+07  2.354025e+06          2.237150e+06   \n",
      "236             237   9.179969e+06  2.354025e+06          2.260051e+06   \n",
      "237             238   6.919918e+06  2.354025e+06          2.283187e+06   \n",
      "238             239   4.636731e+06  2.354025e+06          2.306560e+06   \n",
      "239             240   2.330171e+06  2.354025e+06          2.330171e+06   \n",
      "\n",
      "     Pago de Intereses  Balance Final  \n",
      "0         2.149737e+06   2.097957e+08  \n",
      "1         2.147646e+06   2.095893e+08  \n",
      "2         2.145533e+06   2.093808e+08  \n",
      "3         2.143399e+06   2.091702e+08  \n",
      "4         2.141243e+06   2.089574e+08  \n",
      "..                 ...            ...  \n",
      "235       1.168753e+05   9.179969e+06  \n",
      "236       9.397391e+04   6.919918e+06  \n",
      "237       7.083812e+04   4.636731e+06  \n",
      "238       4.746549e+04   2.330171e+06  \n",
      "239       2.385360e+04   3.590249e-07  \n",
      "\n",
      "[240 rows x 6 columns]\n"
     ]
    }
   ],
   "source": [
    "# Datos dados\n",
    "Valor_inmueble = 300000000  # Valor del inmueble en COP\n",
    "porcentaje_prestamo = 0.70  # Máximo ratio préstamo-valor\n",
    "tasa_int_anual = 0.13  # Tasa de interés anual en porcentaje\n",
    "años = 20  # Plazo del préstamo en años\n",
    "\n",
    "# Calcular el monto máximo del préstamo\n",
    "prestamo = Valor_inmueble * porcentaje_prestamo\n",
    "\n",
    "# Calcular la tabla de amortización\n",
    "t_amortizacion = tabla_amortizacion(prestamo, tasa_int_anual, años)\n",
    "\n",
    "# Mostrar las primeras filas de la tabla de amortización\n",
    "print(t_amortizacion)\n"
   ]
  }
 ],
 "metadata": {
  "kernelspec": {
   "display_name": "Python 3 (ipykernel)",
   "language": "python",
   "name": "python3"
  },
  "language_info": {
   "codemirror_mode": {
    "name": "ipython",
    "version": 3
   },
   "file_extension": ".py",
   "mimetype": "text/x-python",
   "name": "python",
   "nbconvert_exporter": "python",
   "pygments_lexer": "ipython3",
   "version": "3.9.20"
  }
 },
 "nbformat": 4,
 "nbformat_minor": 5
}
