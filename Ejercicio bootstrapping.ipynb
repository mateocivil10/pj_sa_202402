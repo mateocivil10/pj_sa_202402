{
 "cells": [
  {
   "cell_type": "code",
   "execution_count": 7,
   "id": "d48d9c71-a24a-4c6c-9fe6-9a1a64fb9d36",
   "metadata": {},
   "outputs": [],
   "source": [
    "from scipy.interpolate import interp1d\n",
    "import matplotlib.pyplot as plt\n",
    "import scipy.stats as stats\n",
    "import numpy as np"
   ]
  },
  {
   "cell_type": "code",
   "execution_count": 8,
   "id": "cc628764-6bf6-4b8c-a5cc-c34d711ff27a",
   "metadata": {},
   "outputs": [],
   "source": [
    "np.random.seed(0)"
   ]
  },
  {
   "cell_type": "code",
   "execution_count": 9,
   "id": "6e458a55-242e-492c-8299-f107977c9d40",
   "metadata": {},
   "outputs": [],
   "source": [
    "def datos_sesgados(sesgo, cantidad, maximo):\n",
    "    #distribucion normal sesgada\n",
    "    aleatorios = stats.skewnorm.rvs(sesgo, loc = 2.5, size = cantidad, random_state = 0)\n",
    "    aleatorios = aleatorios + abs(aleatorios.min())\n",
    "    aleatorios = np.round(aleatorios, 2)/aleatorios.max() * maximo\n",
    "    return np.round(aleatorios, 1)"
   ]
  },
  {
   "cell_type": "code",
   "execution_count": 10,
   "id": "52416163-b39c-4430-93bf-b0746a80b277",
   "metadata": {},
   "outputs": [],
   "source": [
    "edades=datos_sesgados(3, 1000000, 62)"
   ]
  },
  {
   "cell_type": "code",
   "execution_count": 11,
   "id": "acda79b3-fbd4-4c0f-bd3b-6fd41045d427",
   "metadata": {},
   "outputs": [
    {
     "data": {
      "text/plain": [
       "array([37.6, 29.9, 32.8, ..., 34.1, 29.9, 33. ])"
      ]
     },
     "execution_count": 11,
     "metadata": {},
     "output_type": "execute_result"
    }
   ],
   "source": [
    "edades"
   ]
  },
  {
   "cell_type": "code",
   "execution_count": 12,
   "id": "0c0150ea-207f-466a-8a68-204b7899f84b",
   "metadata": {},
   "outputs": [
    {
     "data": {
      "text/plain": [
       "15.4"
      ]
     },
     "execution_count": 12,
     "metadata": {},
     "output_type": "execute_result"
    }
   ],
   "source": [
    "edades.min()"
   ]
  },
  {
   "cell_type": "code",
   "execution_count": 13,
   "id": "e38282fa-ca3c-4896-a0dd-2d4eaabb4202",
   "metadata": {},
   "outputs": [
    {
     "data": {
      "text/plain": [
       "62.0"
      ]
     },
     "execution_count": 13,
     "metadata": {},
     "output_type": "execute_result"
    }
   ],
   "source": [
    "edades.max()"
   ]
  },
  {
   "cell_type": "code",
   "execution_count": 14,
   "id": "6dc9e409-2e5b-4817-8db8-a38c29548eaf",
   "metadata": {},
   "outputs": [
    {
     "data": {
      "text/plain": [
       "30.1375047"
      ]
     },
     "execution_count": 14,
     "metadata": {},
     "output_type": "execute_result"
    }
   ],
   "source": [
    "edades.mean()"
   ]
  },
  {
   "cell_type": "code",
   "execution_count": 15,
   "id": "e977a863-6b63-47f2-a1f1-2b951d3cc7f6",
   "metadata": {},
   "outputs": [
    {
     "data": {
      "text/plain": [
       "array([25.2, 32.1, 29.7, 27.3, 44.6, 31. , 35.8, 28.8, 33.1, 27.1, 29.4,\n",
       "       34.8, 32.3, 31.2, 26.3, 28.6, 32.8, 21.1, 23.7, 31. , 31.1, 32.7,\n",
       "       34.8, 26.8, 32.1, 43.3, 30.3, 22.1, 26.9, 22.6, 27.7, 30.2, 33.4,\n",
       "       30.8, 32.6, 23.3, 34.3, 23.3, 29.9, 31.4, 27.4, 28.4, 29.7, 41. ,\n",
       "       35.8, 30.7, 31. , 28.8, 26.1, 24.2, 26. , 38.8, 26.1, 34.8, 32.1,\n",
       "       26.2, 27.2, 24.6, 32.3, 30.8, 33.9, 32.3, 28.8, 33.8, 28.3, 25.4,\n",
       "       24.6, 26.9, 24.8, 32.2, 28.2, 31.9, 40.4, 30.8, 27. , 27.7, 23.4,\n",
       "       20.4, 27.9, 20.8, 29. , 35.6, 32.6, 22.8, 29.2, 30.3, 29.7, 27.4,\n",
       "       32.8, 27.7, 27.3, 31.6, 27.6, 27.5, 31.7, 25.8, 25. , 32. , 26.9,\n",
       "       38.4])"
      ]
     },
     "execution_count": 15,
     "metadata": {},
     "output_type": "execute_result"
    }
   ],
   "source": [
    "tamano_muestra= 100\n",
    "#sacar muestras\n",
    "muestra = np.random.choice(edades, tamano_muestra)\n",
    "muestra"
   ]
  },
  {
   "cell_type": "code",
   "execution_count": 20,
   "id": "e99da49b-68dc-4007-8cd1-303167dc59df",
   "metadata": {},
   "outputs": [
    {
     "data": {
      "text/plain": [
       "array([[26.6, 23.3, 27.7, ..., 25.1, 26.1, 33. ],\n",
       "       [23.2, 29.9, 33.2, ..., 27. , 27.3, 28.1],\n",
       "       [25. , 28.6, 31.7, ..., 30.2, 32.1, 36.1],\n",
       "       ...,\n",
       "       [32.8, 30.6, 29.8, ..., 31.4, 29.1, 24.6],\n",
       "       [25.4, 25.2, 38.2, ..., 24.6, 30.1, 37.6],\n",
       "       [23.2, 25.2, 32.3, ..., 35.1, 25.5, 28.3]])"
      ]
     },
     "execution_count": 20,
     "metadata": {},
     "output_type": "execute_result"
    }
   ],
   "source": [
    "muestras_generadas = np.array([])\n",
    "num_muestras = 1000\n",
    "\n",
    "for i in range (num_muestras):\n",
    "    muestras_generadas = np.append(muestras_generadas, np.random.choice(edades, tamano_muestra, replace=True))\n",
    "\n",
    "muestras_generadas = muestras_generadas.reshape(-1, tamano_muestra)\n",
    "muestras_generadas\n",
    "\n",
    "                            "
   ]
  },
  {
   "cell_type": "code",
   "execution_count": 21,
   "id": "81e47ffa-893b-4dd9-8a15-b42f98a2279c",
   "metadata": {},
   "outputs": [
    {
     "data": {
      "text/plain": [
       "(1000, 100)"
      ]
     },
     "execution_count": 21,
     "metadata": {},
     "output_type": "execute_result"
    }
   ],
   "source": [
    "muestras_generadas.shape"
   ]
  },
  {
   "cell_type": "code",
   "execution_count": 23,
   "id": "fe5ef5aa-99c2-4f46-b1e0-daf400ef07ed",
   "metadata": {},
   "outputs": [
    {
     "data": {
      "image/png": "[encoded data removed]",
      "text/plain": [
       "<Figure size 640x480 with 1 Axes>"
      ]
     },
     "metadata": {},
     "output_type": "display_data"
    }
   ],
   "source": [
    "# Distribución muestral de la media\n",
    "plt.hist(muestras_generadas.mean(axis=1), bins = 100, color = \"gray\")\n",
    "plt.xlabel(\"Edades promedio de mis asegurados\")\n",
    "plt.ylabel(\"Frecuencia\")\n",
    "plt.show()\n"
   ]
  },
  {
   "cell_type": "code",
   "execution_count": null,
   "id": "87dcf03a-eaef-4f69-b61d-6b98a01f2cab",
   "metadata": {},
   "outputs": [],
   "source": []
  },
  {
   "cell_type": "code",
   "execution_count": 24,
   "id": "d1d4d1c8-13c9-4353-b25b-76872dbde420",
   "metadata": {},
   "outputs": [],
   "source": [
    "# Intervalo de confianza\n",
    "int_confianza = np.quantile(muestras_generadas.mean(axis=1), [0.025, 0.975])"
   ]
  },
  {
   "cell_type": "code",
   "execution_count": 27,
   "id": "ffc891dd-31fb-4f51-81c5-91f6cc580bc2",
   "metadata": {},
   "outputs": [
    {
     "data": {
      "text/plain": [
       "array([29.3069, 30.9712])"
      ]
     },
     "execution_count": 27,
     "metadata": {},
     "output_type": "execute_result"
    }
   ],
   "source": [
    "int_confianza"
   ]
  },
  {
   "cell_type": "code",
   "execution_count": 32,
   "id": "f4dceb3a-c196-4458-9f3b-d9c988460e74",
   "metadata": {},
   "outputs": [
    {
     "data": {
      "image/png": "[encoded data removed]",
      "text/plain": [
       "<Figure size 640x480 with 1 Axes>"
      ]
     },
     "metadata": {},
     "output_type": "display_data"
    }
   ],
   "source": [
    "# Distribución muestral de la media\n",
    "plt.hist(muestras_generadas.mean(axis=1), bins = 100, alpha=0.5, color = \"gray\")\n",
    "plt.xlabel(\"Edades promedio de mis asegurados\")\n",
    "plt.ylabel(\"Frecuencia\")\n",
    "\n",
    "# Añadir líneas verticales para el intervalo de confianza\n",
    "plt.axvline(int_confianza[0], color='blue', linestyle='--', linewidth=2, label=f\"Límite inferior IC (2.5%): {int_confianza[0]:.2f}\")\n",
    "plt.axvline(int_confianza[1], color='blue', linestyle='--', linewidth=2, label=f\"Límite superior IC (97.5%): {int_confianza[1]:.2f}\")\n",
    "\n",
    "# Añadir línea vertical para la media muestral\n",
    "plt.axvline(muestras_generadas.mean(), color='red', linestyle='-', linewidth=2, label=f\"Media muestral: {muestras_generadas.mean():.2f}\")\n",
    "\n",
    "plt.show()\n"
   ]
  },
  {
   "cell_type": "code",
   "execution_count": 29,
   "id": "6080a3e7-14d2-4348-9226-722ca4503c0d",
   "metadata": {},
   "outputs": [
    {
     "data": {
      "text/plain": [
       "30.112545000000004"
      ]
     },
     "execution_count": 29,
     "metadata": {},
     "output_type": "execute_result"
    }
   ],
   "source": [
    "muestras_generadas.mean()\n"
   ]
  },
  {
   "cell_type": "code",
   "execution_count": 31,
   "id": "450d6725-e45c-49fd-b4f6-b2aed8458210",
   "metadata": {},
   "outputs": [
    {
     "data": {
      "text/plain": [
       "29.679000000000006"
      ]
     },
     "execution_count": 31,
     "metadata": {},
     "output_type": "execute_result"
    }
   ],
   "source": [
    "muestra.mean()"
   ]
  }
 ],
 "metadata": {
  "kernelspec": {
   "display_name": "Python 3 (ipykernel)",
   "language": "python",
   "name": "python3"
  },
  "language_info": {
   "codemirror_mode": {
    "name": "ipython",
    "version": 3
   },
   "file_extension": ".py",
   "mimetype": "text/x-python",
   "name": "python",
   "nbconvert_exporter": "python",
   "pygments_lexer": "ipython3",
   "version": "3.9.20"
  }
 },
 "nbformat": 4,
 "nbformat_minor": 5
}
