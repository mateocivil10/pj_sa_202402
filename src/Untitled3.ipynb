{
 "cells": [
  {
   "cell_type": "code",
   "execution_count": 2,
   "id": "4bb0b00d-63e4-4c9f-a695-6281c3fab385",
   "metadata": {},
   "outputs": [
    {
     "name": "stdout",
     "output_type": "stream",
     "text": [
      "El valor futuro de la inversión es: 1.0156386259991252e+55\n"
     ]
    }
   ],
   "source": []
  },
  {
   "cell_type": "code",
   "execution_count": 4,
   "id": "07d73f56-850f-47ab-83ca-d6bba28cd6e2",
   "metadata": {},
   "outputs": [
    {
     "name": "stdout",
     "output_type": "stream",
     "text": [
      "0.0033333333333333335\n"
     ]
    }
   ],
   "source": [
    "interes_mensual = 0.04/12\n",
    "print(interes_mensual)"
   ]
  },
  {
   "cell_type": "code",
   "execution_count": 15,
   "id": "650347c0-4cd1-4be6-89d1-762e28da4357",
   "metadata": {},
   "outputs": [
    {
     "name": "stdout",
     "output_type": "stream",
     "text": [
      "El valor futuro de la inversión es: 965901327.0222226\n"
     ]
    }
   ],
   "source": [
    "def calcular_valor_futuro(vp, tasa, periodo):\n",
    "   \n",
    "    valor_futuro = vp * (1 + tasa) ** periodo\n",
    "    \n",
    "    return valor_futuro\n",
    "\n",
    "\n",
    "vp = 1120000  # Valor presente\n",
    "tasa = interes_mensual  # Tasa de interés del 5%\n",
    "periodo = 384  # Número de períodos\n",
    "total = 96000000\n",
    "for i in range(periodo):\n",
    "    fv = calcular_valor_futuro(vp, tasa, i)\n",
    "    total = total + fv\n",
    "    \n",
    "print(f\"El valor futuro de la inversión es: {total}\")"
   ]
  },
  {
   "cell_type": "code",
   "execution_count": 16,
   "id": "c777b508-a251-4e07-88f8-cd977920f863",
   "metadata": {},
   "outputs": [
    {
     "name": "stderr",
     "output_type": "stream",
     "text": [
      "C:\\Users\\edgar.torres\\AppData\\Local\\Temp\\ipykernel_2376\\1198806545.py:15: SettingWithCopyWarning: \n",
      "A value is trying to be set on a copy of a slice from a DataFrame.\n",
      "Try using .loc[row_indexer,col_indexer] = value instead\n",
      "\n",
      "See the caveats in the documentation: https://pandas.pydata.org/pandas-docs/stable/user_guide/indexing.html#returning-a-view-versus-a-copy\n",
      "  T['n'] = T['x'].apply(lambda x: x - edad_jubilacion)*12\n",
      "C:\\Users\\edgar.torres\\AppData\\Local\\Temp\\ipykernel_2376\\1198806545.py:18: SettingWithCopyWarning: \n",
      "A value is trying to be set on a copy of a slice from a DataFrame.\n",
      "Try using .loc[row_indexer,col_indexer] = value instead\n",
      "\n",
      "See the caveats in the documentation: https://pandas.pydata.org/pandas-docs/stable/user_guide/indexing.html#returning-a-view-versus-a-copy\n",
      "  T['Vn'] = np.ones(len(T))*(1/(1+i))\n",
      "C:\\Users\\edgar.torres\\AppData\\Local\\Temp\\ipykernel_2376\\1198806545.py:19: SettingWithCopyWarning: \n",
      "A value is trying to be set on a copy of a slice from a DataFrame.\n",
      "Try using .loc[row_indexer,col_indexer] = value instead\n",
      "\n",
      "See the caveats in the documentation: https://pandas.pydata.org/pandas-docs/stable/user_guide/indexing.html#returning-a-view-versus-a-copy\n",
      "  T['Vn'] = T.apply(lambda row: row['Vn'] ** row['n'], axis=1)\n"
     ]
    },
    {
     "data": {
      "text/plain": [
       "3794477.391389603"
      ]
     },
     "execution_count": 16,
     "metadata": {},
     "output_type": "execute_result"
    }
   ],
   "source": [
    "import pandas as pd\n",
    "import numpy as np\n",
    "import sys\n",
    "import os\n",
    "from Tablas_mortalidad import *\n",
    "\n",
    "ruta_h=r'TM_hombres.xlsx'\n",
    "Tmort_h=pd.read_excel(ruta_h)\n",
    "\n",
    "T_hombre=TMensual(Tmort_h)\n",
    "\n",
    "edad_jubilacion = 62 \n",
    "T=tmort_filtered(T_hombre,edad_jubilacion)\n",
    "\n",
    "T['n'] = T['x'].apply(lambda x: x - edad_jubilacion)*12\n",
    "\n",
    "i= interes_mensual\n",
    "T['Vn'] = np.ones(len(T))*(1/(1+i))\n",
    "T['Vn'] = T.apply(lambda row: row['Vn'] ** row['n'], axis=1)\n",
    "\n",
    "sum_vect=T['p(x)']*T['Vn']\n",
    "suma=sum_vect.sum()\n",
    "suma\n",
    "\n",
    "c=total/suma\n",
    "c"
   ]
  }
 ],
 "metadata": {
  "kernelspec": {
   "display_name": "Python 3 (ipykernel)",
   "language": "python",
   "name": "python3"
  },
  "language_info": {
   "codemirror_mode": {
    "name": "ipython",
    "version": 3
   },
   "file_extension": ".py",
   "mimetype": "text/x-python",
   "name": "python",
   "nbconvert_exporter": "python",
   "pygments_lexer": "ipython3",
   "version": "3.9.20"
  }
 },
 "nbformat": 4,
 "nbformat_minor": 5
}
