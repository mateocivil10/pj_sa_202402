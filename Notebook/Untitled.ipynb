{
 "cells": [
  {
   "cell_type": "code",
   "execution_count": null,
   "id": "602a2748-0db3-4036-bf57-d1b2833b797f",
   "metadata": {},
   "outputs": [],
   "source": [
    "import pandas as pd"
   ]
  },
  {
   "cell_type": "code",
   "execution_count": 5,
   "id": "8646fadb-1287-4e7d-9069-0ed3f796901f",
   "metadata": {},
   "outputs": [
    {
     "name": "stdout",
     "output_type": "stream",
     "text": [
      "La probabilidad es 97.730000%.\n"
     ]
    }
   ],
   "source": [
    "import random\n",
    "# Número de personas\n",
    "n = 52\n",
    "def montecarlo_cumple(n, simulaciones=10000):\n",
    "    dias = 365\n",
    "    repetidos = 0\n",
    "\n",
    "    for _ in range(simulaciones):\n",
    "        cumple = [random.randint(1, dias) for _ in range(n)]\n",
    "        if len(cumple) != len(set(cumple)):\n",
    "            repetidos += 1\n",
    "\n",
    "    prob = repetidos / simulaciones\n",
    "    return prob\n",
    "\n",
    "\n",
    "\n",
    "\n",
    "probabilidad = montecarlo_cumple(n)\n",
    "\n",
    "print(f\"La probabilidad es {probabilidad:%}.\")\n"
   ]
  }
 ],
 "metadata": {
  "kernelspec": {
   "display_name": "Python 3 (ipykernel)",
   "language": "python",
   "name": "python3"
  },
  "language_info": {
   "codemirror_mode": {
    "name": "ipython",
    "version": 3
   },
   "file_extension": ".py",
   "mimetype": "text/x-python",
   "name": "python",
   "nbconvert_exporter": "python",
   "pygments_lexer": "ipython3",
   "version": "3.9.20"
  }
 },
 "nbformat": 4,
 "nbformat_minor": 5
}
