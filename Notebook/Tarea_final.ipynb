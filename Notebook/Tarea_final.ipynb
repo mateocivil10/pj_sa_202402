{
 "cells": [
  {
   "cell_type": "code",
   "execution_count": 1,
   "metadata": {},
   "outputs": [],
   "source": [
    "import warnings\n",
    "warnings.filterwarnings('ignore')\n",
    "import pandas as pd\n",
    "import numpy as np\n",
    "import matplotlib.pyplot as plt\n",
    "import sys\n",
    "import os\n",
    "# Agregar la carpeta 'src' al sistema de rutas\n",
    "sys.path.append(os.path.abspath('../src'))\n",
    "# Ahora puedes importar el archivo o los módulos\n",
    "#from pricing_tools import *\n",
    "import scipy.stats as stats\n",
    "import lightgbm as lgb\n",
    "from sklearn.model_selection import train_test_split\n",
    "from sklearn.metrics import accuracy_score\n",
    "from sklearn.preprocessing import LabelEncoder\n",
    "from sklearn.metrics import accuracy_score, confusion_matrix, classification_report, roc_curve, auc\n",
    "from sklearn.decomposition import PCA\n",
    "from sklearn.preprocessing import StandardScaler\n",
    "from sklearn.cluster import KMeans\n",
    "import statsmodels.api as sm"
   ]
  },
  {
   "cell_type": "code",
   "execution_count": 2,
   "metadata": {},
   "outputs": [
    {
     "data": {
      "text/html": [
       "<div>\n",
       "<style scoped>\n",
       "    .dataframe tbody tr th:only-of-type {\n",
       "        vertical-align: middle;\n",
       "    }\n",
       "\n",
       "    .dataframe tbody tr th {\n",
       "        vertical-align: top;\n",
       "    }\n",
       "\n",
       "    .dataframe thead th {\n",
       "        text-align: right;\n",
       "    }\n",
       "</style>\n",
       "<table border=\"1\" class=\"dataframe\">\n",
       "  <thead>\n",
       "    <tr style=\"text-align: right;\">\n",
       "      <th></th>\n",
       "      <th>AGRUPAGENTE</th>\n",
       "      <th>Altitud</th>\n",
       "      <th>antigedif</th>\n",
       "      <th>antigref</th>\n",
       "      <th>ANTIGUEDAD_VIVIENDA</th>\n",
       "      <th>anualidad_reemplazo</th>\n",
       "      <th>anualidad_seguro</th>\n",
       "      <th>AnyoCons_edif</th>\n",
       "      <th>AnyoCons_edif_total</th>\n",
       "      <th>AUX</th>\n",
       "      <th>...</th>\n",
       "      <th>zona_inundable_centroids</th>\n",
       "      <th>zonas_agri</th>\n",
       "      <th>zonas_de_extraccion_minera</th>\n",
       "      <th>zonas_en_construccion</th>\n",
       "      <th>zonas_fore</th>\n",
       "      <th>zonas_hume</th>\n",
       "      <th>zonas_industriales_o_comerciales</th>\n",
       "      <th>zonas_portuarias</th>\n",
       "      <th>zonas_quemadas</th>\n",
       "      <th>zonas_verdes_urbanas</th>\n",
       "    </tr>\n",
       "  </thead>\n",
       "  <tbody>\n",
       "    <tr>\n",
       "      <th>0</th>\n",
       "      <td>1033.0</td>\n",
       "      <td>552.0</td>\n",
       "      <td>31.0</td>\n",
       "      <td>NaN</td>\n",
       "      <td>31.0</td>\n",
       "      <td>99.0</td>\n",
       "      <td>4.0</td>\n",
       "      <td>1961.0</td>\n",
       "      <td>1961.0</td>\n",
       "      <td>3.0</td>\n",
       "      <td>...</td>\n",
       "      <td>1.0</td>\n",
       "      <td>60.339419</td>\n",
       "      <td>2.297298</td>\n",
       "      <td>NaN</td>\n",
       "      <td>30.170863</td>\n",
       "      <td>NaN</td>\n",
       "      <td>7.73435</td>\n",
       "      <td>NaN</td>\n",
       "      <td>NaN</td>\n",
       "      <td>NaN</td>\n",
       "    </tr>\n",
       "    <tr>\n",
       "      <th>1</th>\n",
       "      <td>1033.0</td>\n",
       "      <td>552.0</td>\n",
       "      <td>30.0</td>\n",
       "      <td>NaN</td>\n",
       "      <td>30.0</td>\n",
       "      <td>99.0</td>\n",
       "      <td>3.0</td>\n",
       "      <td>1961.0</td>\n",
       "      <td>1961.0</td>\n",
       "      <td>3.0</td>\n",
       "      <td>...</td>\n",
       "      <td>1.0</td>\n",
       "      <td>60.339419</td>\n",
       "      <td>2.297298</td>\n",
       "      <td>NaN</td>\n",
       "      <td>30.170863</td>\n",
       "      <td>NaN</td>\n",
       "      <td>7.73435</td>\n",
       "      <td>NaN</td>\n",
       "      <td>NaN</td>\n",
       "      <td>NaN</td>\n",
       "    </tr>\n",
       "    <tr>\n",
       "      <th>2</th>\n",
       "      <td>1033.0</td>\n",
       "      <td>552.0</td>\n",
       "      <td>33.0</td>\n",
       "      <td>NaN</td>\n",
       "      <td>33.0</td>\n",
       "      <td>99.0</td>\n",
       "      <td>6.0</td>\n",
       "      <td>1961.0</td>\n",
       "      <td>1961.0</td>\n",
       "      <td>3.0</td>\n",
       "      <td>...</td>\n",
       "      <td>1.0</td>\n",
       "      <td>60.339419</td>\n",
       "      <td>2.297298</td>\n",
       "      <td>NaN</td>\n",
       "      <td>30.170863</td>\n",
       "      <td>NaN</td>\n",
       "      <td>7.73435</td>\n",
       "      <td>NaN</td>\n",
       "      <td>NaN</td>\n",
       "      <td>NaN</td>\n",
       "    </tr>\n",
       "    <tr>\n",
       "      <th>3</th>\n",
       "      <td>1033.0</td>\n",
       "      <td>552.0</td>\n",
       "      <td>34.0</td>\n",
       "      <td>NaN</td>\n",
       "      <td>34.0</td>\n",
       "      <td>99.0</td>\n",
       "      <td>7.0</td>\n",
       "      <td>1961.0</td>\n",
       "      <td>1961.0</td>\n",
       "      <td>3.0</td>\n",
       "      <td>...</td>\n",
       "      <td>1.0</td>\n",
       "      <td>60.339419</td>\n",
       "      <td>2.297298</td>\n",
       "      <td>NaN</td>\n",
       "      <td>30.170863</td>\n",
       "      <td>NaN</td>\n",
       "      <td>7.73435</td>\n",
       "      <td>NaN</td>\n",
       "      <td>NaN</td>\n",
       "      <td>NaN</td>\n",
       "    </tr>\n",
       "    <tr>\n",
       "      <th>4</th>\n",
       "      <td>1033.0</td>\n",
       "      <td>552.0</td>\n",
       "      <td>36.0</td>\n",
       "      <td>NaN</td>\n",
       "      <td>36.0</td>\n",
       "      <td>99.0</td>\n",
       "      <td>6.0</td>\n",
       "      <td>1961.0</td>\n",
       "      <td>1961.0</td>\n",
       "      <td>0.0</td>\n",
       "      <td>...</td>\n",
       "      <td>1.0</td>\n",
       "      <td>60.339419</td>\n",
       "      <td>2.297298</td>\n",
       "      <td>NaN</td>\n",
       "      <td>30.170863</td>\n",
       "      <td>NaN</td>\n",
       "      <td>7.73435</td>\n",
       "      <td>NaN</td>\n",
       "      <td>NaN</td>\n",
       "      <td>NaN</td>\n",
       "    </tr>\n",
       "  </tbody>\n",
       "</table>\n",
       "<p>5 rows × 681 columns</p>\n",
       "</div>"
      ],
      "text/plain": [
       "   AGRUPAGENTE  Altitud  antigedif  antigref  ANTIGUEDAD_VIVIENDA  \\\n",
       "0       1033.0    552.0       31.0       NaN                 31.0   \n",
       "1       1033.0    552.0       30.0       NaN                 30.0   \n",
       "2       1033.0    552.0       33.0       NaN                 33.0   \n",
       "3       1033.0    552.0       34.0       NaN                 34.0   \n",
       "4       1033.0    552.0       36.0       NaN                 36.0   \n",
       "\n",
       "   anualidad_reemplazo  anualidad_seguro  AnyoCons_edif  AnyoCons_edif_total  \\\n",
       "0                 99.0               4.0         1961.0               1961.0   \n",
       "1                 99.0               3.0         1961.0               1961.0   \n",
       "2                 99.0               6.0         1961.0               1961.0   \n",
       "3                 99.0               7.0         1961.0               1961.0   \n",
       "4                 99.0               6.0         1961.0               1961.0   \n",
       "\n",
       "   AUX  ...  zona_inundable_centroids zonas_agri zonas_de_extraccion_minera  \\\n",
       "0  3.0  ...                       1.0  60.339419                   2.297298   \n",
       "1  3.0  ...                       1.0  60.339419                   2.297298   \n",
       "2  3.0  ...                       1.0  60.339419                   2.297298   \n",
       "3  3.0  ...                       1.0  60.339419                   2.297298   \n",
       "4  0.0  ...                       1.0  60.339419                   2.297298   \n",
       "\n",
       "  zonas_en_construccion zonas_fore zonas_hume  \\\n",
       "0                   NaN  30.170863        NaN   \n",
       "1                   NaN  30.170863        NaN   \n",
       "2                   NaN  30.170863        NaN   \n",
       "3                   NaN  30.170863        NaN   \n",
       "4                   NaN  30.170863        NaN   \n",
       "\n",
       "  zonas_industriales_o_comerciales zonas_portuarias zonas_quemadas  \\\n",
       "0                          7.73435              NaN            NaN   \n",
       "1                          7.73435              NaN            NaN   \n",
       "2                          7.73435              NaN            NaN   \n",
       "3                          7.73435              NaN            NaN   \n",
       "4                          7.73435              NaN            NaN   \n",
       "\n",
       "  zonas_verdes_urbanas  \n",
       "0                  NaN  \n",
       "1                  NaN  \n",
       "2                  NaN  \n",
       "3                  NaN  \n",
       "4                  NaN  \n",
       "\n",
       "[5 rows x 681 columns]"
      ]
     },
     "execution_count": 2,
     "metadata": {},
     "output_type": "execute_result"
    }
   ],
   "source": [
    "df_path=r'C:/Users/edgar.torres/Downloads/Clase financiero/pj_sa_202402/src/AGUA'\n",
    "df=pd.read_parquet(df_path)\n",
    "df.head()"
   ]
  },
  {
   "cell_type": "code",
   "execution_count": 3,
   "metadata": {},
   "outputs": [],
   "source": [
    "#reducir el tamaño del df para el analisis\n",
    "df_muestra = df.sample(n=len(df))"
   ]
  },
  {
   "cell_type": "code",
   "execution_count": 4,
   "metadata": {},
   "outputs": [],
   "source": [
    "#Variables de respuesta y peso\n",
    "var_resp='stro_Corr_AGUAACAGBC'\n",
    "peso='exp_corr_ACAGBC'\n",
    "ano='year'"
   ]
  },
  {
   "cell_type": "code",
   "execution_count": 5,
   "metadata": {},
   "outputs": [],
   "source": [
    "#Filtra los años que tienen valor mayor a 0\n",
    "df_muestra=df_muestra[df_muestra[peso]>0]\n",
    "df_muestra=df_muestra[df_muestra['SUPERFICIE']<20000]"
   ]
  },
  {
   "cell_type": "code",
   "execution_count": 6,
   "metadata": {},
   "outputs": [],
   "source": [
    "#Genera la columna de respuesta\n",
    "df_muestra['resp']=df_muestra[var_resp]/df_muestra[peso]"
   ]
  },
  {
   "cell_type": "code",
   "execution_count": 7,
   "metadata": {},
   "outputs": [],
   "source": [
    "# Funcion para graficar histograma\n",
    "def graficar_histograma(df, columna, bins=10, titulo=\"Histograma\", xlabel=\"Valores\", ylabel=\"Frecuencia\"):\n",
    "    \"\"\"\n",
    "    Grafica un histograma de una variable específica de un DataFrame.\n",
    "    \n",
    "    Parámetros:\n",
    "    - df: DataFrame de pandas que contiene los datos.\n",
    "    - columna: Nombre de la columna que se desea graficar (str).\n",
    "    - bins: Número de bins en el histograma (opcional, por defecto 10).\n",
    "    - titulo: Título del gráfico (opcional).\n",
    "    - xlabel: Etiqueta para el eje X (opcional).\n",
    "    - ylabel: Etiqueta para el eje Y (opcional).\n",
    "    \"\"\"\n",
    "    # Comprobamos si la columna existe en el DataFrame\n",
    "    if columna not in df.columns:\n",
    "        print(f\"La columna '{columna}' no se encuentra en el DataFrame.\")\n",
    "        return\n",
    "    \n",
    "    # Graficar el histograma\n",
    "    plt.figure(figsize=(8, 6))\n",
    "    plt.hist(df[columna].dropna(), bins=bins, color=\"skyblue\", edgecolor=\"black\")\n",
    "    plt.title(titulo)\n",
    "    plt.xlabel(xlabel)\n",
    "    plt.ylabel(ylabel)\n",
    "    plt.grid(axis=\"y\", linestyle=\"--\", alpha=0.7)\n",
    "    plt.show()"
   ]
  },
  {
   "cell_type": "code",
   "execution_count": 8,
   "metadata": {},
   "outputs": [],
   "source": [
    "# Funcion para graficar barras\n",
    "def graficar_barras_linea(df, x_col, y_col_barras, y_col_linea, titulo=\"Gráfico combinado de barras y línea\"):\n",
    "    \"\"\"\n",
    "    Función para graficar un diagrama de barras con una línea superpuesta.\n",
    "    \n",
    "    Parámetros:\n",
    "    - df: DataFrame de Pandas.\n",
    "    - x_col: Nombre de la columna para el eje x (categorías).\n",
    "    - y_col_barras: Nombre de la columna para el eje y de las barras (pesos).\n",
    "    - y_col_linea: Nombre de la columna para el eje y de la línea (variable de respuesta).\n",
    "    - titulo: Título del gráfico (opcional).\n",
    "    \"\"\"\n",
    "\n",
    "    # Crear el gráfico\n",
    "    fig, ax1 = plt.subplots(figsize=(10, 6))\n",
    "\n",
    "    # Graficar las barras\n",
    "    ax1.bar(df[x_col], df[y_col_barras], color='skyblue', label=y_col_barras, alpha=0.7)\n",
    "\n",
    "    # Etiquetas para el eje de las barras\n",
    "    ax1.set_xlabel(x_col)\n",
    "    ax1.set_ylabel(y_col_barras, color='skyblue')\n",
    "    ax1.tick_params(axis='y', labelcolor='skyblue')\n",
    "\n",
    "    # Crear un segundo eje Y para la línea\n",
    "    ax2 = ax1.twinx()  # Comparte el mismo eje X\n",
    "\n",
    "    # Graficar la línea\n",
    "    ax2.plot(df[x_col], df[y_col_linea], color='orange', marker='o', label=y_col_linea)\n",
    "\n",
    "    # Etiquetas para el eje de la línea\n",
    "    ax2.set_ylabel(y_col_linea, color='orange')\n",
    "    ax2.tick_params(axis='y', labelcolor='orange')\n",
    "\n",
    "    # Título\n",
    "    plt.title(titulo)\n",
    "\n",
    "    # Rotar etiquetas del eje X si es necesario\n",
    "    plt.xticks(rotation=90)\n",
    "\n",
    "    # Asegurar que no se solapen los gráficos\n",
    "    plt.tight_layout()\n",
    "\n",
    "    # Mostrar el gráfico\n",
    "    plt.show()"
   ]
  },
  {
   "cell_type": "code",
   "execution_count": 9,
   "metadata": {},
   "outputs": [],
   "source": [
    "# Funcion para exposicion homogenea\n",
    "def generar_formato_exposicion_homogenea(df, columna_interes, columna_exposicion, num_beans):\n",
    "    \"\"\"\n",
    "    Genera un formato de beans con exposición homogénea basados en la exposición de otra columna y devuelve la columna\n",
    "    de interés con el formato aplicado.\n",
    "\n",
    "    :param df: DataFrame que contiene los datos.\n",
    "    :param columna_interes: Nombre de la columna de interés que se quiere agrupar en bins.\n",
    "    :param columna_exposicion: Nombre de la columna que contiene la exposición o peso.\n",
    "    :param distribucion: Tipo de distribución ('normal', 'uniforme', etc.) para ajustar los beans (parámetro no usado en esta versión).\n",
    "    :param num_beans: Número de beans o grupos a crear.\n",
    "    :return: Serie con la columna de interés formateada en beans de exposición constante.\n",
    "    \"\"\"\n",
    "    \n",
    "    # Ordenar el DataFrame por la columna de interés para crear beans adecuados\n",
    "    df = df.sort_values(by=columna_interes).reset_index(drop=True)\n",
    "\n",
    "    # Calcular la exposición total y la exposición por cada bean\n",
    "    exposicion_total = df[columna_exposicion].sum()\n",
    "    exposicion_por_bean = exposicion_total / num_beans\n",
    "    \n",
    "    # Variable para rastrear la exposición acumulada y asignar beans\n",
    "    exposicion_acumulada = 0\n",
    "    limites_beans = []\n",
    "    current_bean = 1\n",
    "    limite_actual = df[columna_interes].iloc[0]  # Inicia en el valor mínimo\n",
    "    \n",
    "    # Recorrer el DataFrame fila por fila para crear los bins basados en exposición\n",
    "    for i, fila in df.iterrows():\n",
    "        exposicion_acumulada += fila[columna_exposicion]\n",
    "        \n",
    "        # Si alcanzamos la exposición deseada para este bin, guardar el límite superior\n",
    "        if exposicion_acumulada >= exposicion_por_bean:\n",
    "            limite_actual = fila[columna_interes]\n",
    "            limites_beans.append(limite_actual)\n",
    "            exposicion_acumulada = 0\n",
    "            current_bean += 1\n",
    "            if current_bean > num_beans:\n",
    "                break  # No más beans después del número establecido\n",
    "    \n",
    "    # Si el número de beans es menor al solicitado, añadimos el máximo valor como último límite\n",
    "    if len(limites_beans) < num_beans:\n",
    "        limites_beans.append(df[columna_interes].max())\n",
    "    \n",
    "    # Usar pd.cut para aplicar los límites de los beans\n",
    "    df['Columna_formateada'] = pd.cut(df[columna_interes], bins=[-np.inf] + limites_beans, duplicates='drop')\n",
    "    \n",
    "    return df['Columna_formateada']"
   ]
  },
  {
   "cell_type": "code",
   "execution_count": 10,
   "metadata": {},
   "outputs": [
    {
     "data": {
      "image/png": "[encoded data removed]",
      "text/plain": [
       "<Figure size 1000x600 with 2 Axes>"
      ]
     },
     "metadata": {},
     "output_type": "display_data"
    }
   ],
   "source": [
    "# Composicion de la cartera por años\n",
    "df_muestra[ano]=df_muestra[ano].astype(str)\n",
    "df_resumido = df_muestra.groupby(ano).agg({peso: 'sum', 'resp': 'mean'}).reset_index()\n",
    "graficar_barras_linea(df_resumido,ano,peso,'resp')"
   ]
  },
  {
   "cell_type": "code",
   "execution_count": 11,
   "metadata": {},
   "outputs": [
    {
     "data": {
      "image/png": "[encoded data removed]",
      "text/plain": [
       "<Figure size 1000x600 with 2 Axes>"
      ]
     },
     "metadata": {},
     "output_type": "display_data"
    }
   ],
   "source": [
    "# Variable 1 \n",
    "#Antiguedad del edificio\n",
    "var1='antigedif'\n",
    "df_muestra[var1].dtype\n",
    "df_resumido = df_muestra.groupby(var1).agg({peso: 'sum', 'resp': 'mean'}).reset_index()\n",
    "graficar_barras_linea(df_resumido,var1,peso,'resp')"
   ]
  },
  {
   "cell_type": "code",
   "execution_count": null,
   "metadata": {},
   "outputs": [],
   "source": [
    "antig_corregida=generar_formato_exposicion_homogenea(df_muestra, 'antigedif', peso, 10)\n",
    "df_muestra['antigedif_2']=antig_corregida #Sobreescribimos la columna corregida"
   ]
  },
  {
   "cell_type": "code",
   "execution_count": null,
   "metadata": {},
   "outputs": [],
   "source": [
    "df_muestra['antigedif_2']=df_muestra['antigedif_2'].astype(str)\n",
    "df_resumido = df_muestra.groupby('antigedif_2').agg({peso: 'sum', 'resp': 'mean'}).reset_index()\n",
    "graficar_barras_linea(df_resumido,'antigedif_2',peso,'resp')"
   ]
  },
  {
   "cell_type": "code",
   "execution_count": null,
   "metadata": {},
   "outputs": [],
   "source": [
    "# Convertir los nan en la moda de la variable\n",
    "df_muestra['antigedif_2'].replace('nan',np.nan).mode(dropna=True)[0]"
   ]
  },
  {
   "cell_type": "code",
   "execution_count": null,
   "metadata": {},
   "outputs": [],
   "source": [
    "df_muestra['antigedif_2']=df_muestra['antigedif_2'].replace('nan','(51.0, 56.0]')\n",
    "df_resumido = df_muestra.groupby('antigedif_2').agg({peso: 'sum', 'resp': 'mean'}).reset_index()\n",
    "graficar_barras_linea(df_resumido,'antigedif_2',peso,'resp')"
   ]
  },
  {
   "cell_type": "code",
   "execution_count": null,
   "metadata": {},
   "outputs": [],
   "source": [
    "# Variable 2 \n",
    "# SUPERFICIE\n",
    "var2='SUPERFICIE'\n",
    "df_muestra[var2].dtype\n",
    "df_resumido = df_muestra.groupby(var2).agg({peso: 'sum', 'resp': 'mean'}).reset_index()\n",
    "graficar_barras_linea(df_resumido,var2,peso,'resp')"
   ]
  },
  {
   "cell_type": "code",
   "execution_count": null,
   "metadata": {},
   "outputs": [],
   "source": [
    "#2\n",
    "SUPERFICIE_corregida=generar_formato_exposicion_homogenea(df_muestra, 'SUPERFICIE', peso, 10)\n",
    "df_muestra['SUPERFICIE2']=SUPERFICIE_corregida #Sobreescribimos la columna corregida"
   ]
  },
  {
   "cell_type": "code",
   "execution_count": null,
   "metadata": {},
   "outputs": [],
   "source": [
    "#3\n",
    "\n",
    "df_muestra['SUPERFICIE2']=df_muestra['SUPERFICIE2'].astype(str)\n",
    "df_resumido = df_muestra.groupby('SUPERFICIE2').agg({peso: 'sum', 'resp': 'mean'}).reset_index()\n",
    "graficar_barras_linea(df_resumido,'SUPERFICIE2',peso,'resp')"
   ]
  },
  {
   "cell_type": "code",
   "execution_count": null,
   "metadata": {},
   "outputs": [],
   "source": [
    "#4\n",
    "### Y que hacemos con los Nan? -> por ejemplo convertirlos en la moda de la variable\n",
    "df_muestra['SUPERFICIE2'].replace('nan',np.nan).mode(dropna=True)[0]"
   ]
  },
  {
   "cell_type": "code",
   "execution_count": null,
   "metadata": {},
   "outputs": [],
   "source": [
    "#5\n",
    "### Ahora sustituimos los nan por el valor moda\n",
    "df_muestra['SUPERFICIE2']=df_muestra['SUPERFICIE2'].replace('nan','(3824.0, 19985.0]')\n",
    "df_resumido = df_muestra.groupby('SUPERFICIE2').agg({peso: 'sum', 'resp': 'mean'}).reset_index()\n",
    "graficar_barras_linea(df_resumido,'SUPERFICIE2',peso,'resp')"
   ]
  },
  {
   "cell_type": "code",
   "execution_count": null,
   "metadata": {},
   "outputs": [],
   "source": [
    "# Variable 3\n",
    "# Antiguedad de la vivienda\n",
    "var3='ANTIGUEDAD_VIVIENDA'\n",
    "df_muestra=df_muestra[df_muestra[var3]>0]\n",
    "df_muestra[var3].dtype\n",
    "df_resumido = df_muestra.groupby(var3).agg({peso: 'sum', 'resp': 'mean'}).reset_index()\n",
    "graficar_barras_linea(df_resumido,var3,peso,'resp')"
   ]
  },
  {
   "cell_type": "code",
   "execution_count": null,
   "metadata": {},
   "outputs": [],
   "source": [
    "#2\n",
    "Antvivienda_corregida=generar_formato_exposicion_homogenea(df_muestra, 'ANTIGUEDAD_VIVIENDA', peso, 10)\n",
    "df_muestra['ANTIGUEDAD_VIVIENDA2']=Antvivienda_corregida #Sobreescribimos la columna corregida"
   ]
  },
  {
   "cell_type": "code",
   "execution_count": null,
   "metadata": {},
   "outputs": [],
   "source": [
    "#3\n",
    "df_muestra['ANTIGUEDAD_VIVIENDA2']=df_muestra['ANTIGUEDAD_VIVIENDA2'].astype(str)\n",
    "df_resumido = df_muestra.groupby('ANTIGUEDAD_VIVIENDA2').agg({peso: 'sum', 'resp': 'mean'}).reset_index()\n",
    "graficar_barras_linea(df_resumido,'ANTIGUEDAD_VIVIENDA2',peso,'resp')"
   ]
  },
  {
   "cell_type": "code",
   "execution_count": null,
   "metadata": {},
   "outputs": [],
   "source": [
    "#4\n",
    "# Convertir los nan en la moda de la variable\n",
    "df_muestra['ANTIGUEDAD_VIVIENDA2'].replace('nan',np.nan).mode(dropna=True)[0]"
   ]
  },
  {
   "cell_type": "code",
   "execution_count": null,
   "metadata": {},
   "outputs": [],
   "source": [
    "#5\n",
    "### Ahora sustituimos los nan por el valor moda\n",
    "df_muestra['ANTIGUEDAD_VIVIENDA2']=df_muestra['ANTIGUEDAD_VIVIENDA2'].replace('nan','(-inf, 12.0]')\n",
    "df_resumido = df_muestra.groupby('ANTIGUEDAD_VIVIENDA2').agg({peso: 'sum', 'resp': 'mean'}).reset_index()\n",
    "graficar_barras_linea(df_resumido,'ANTIGUEDAD_VIVIENDA2',peso,'resp')"
   ]
  },
  {
   "cell_type": "code",
   "execution_count": null,
   "metadata": {},
   "outputs": [],
   "source": [
    "#Variable 4\n",
    "# Riesgo de tornado\n",
    "var4='Tornado_AVG'\n",
    "df_muestra=df_muestra[df_muestra[var4]>0]\n",
    "df_muestra[var4].dtype\n",
    "df_resumido = df_muestra.groupby(var4).agg({peso: 'sum', 'resp': 'mean'}).reset_index()\n",
    "graficar_barras_linea(df_resumido,var4,peso,'resp')"
   ]
  },
  {
   "cell_type": "code",
   "execution_count": null,
   "metadata": {},
   "outputs": [],
   "source": [
    "#2\n",
    "tornado_corregida=generar_formato_exposicion_homogenea(df_muestra, 'Tornado_AVG', peso, 10)\n",
    "df_muestra['Tornado_AVG2']=tornado_corregida #Sobreescribimos la columna corregida"
   ]
  },
  {
   "cell_type": "code",
   "execution_count": null,
   "metadata": {},
   "outputs": [],
   "source": [
    "#3\n",
    "df_muestra['Tornado_AVG2']=df_muestra['Tornado_AVG2'].astype(str)\n",
    "df_resumido = df_muestra.groupby('Tornado_AVG2').agg({peso: 'sum', 'resp': 'mean'}).reset_index()\n",
    "graficar_barras_linea(df_resumido,'Tornado_AVG2',peso,'resp')"
   ]
  },
  {
   "cell_type": "code",
   "execution_count": null,
   "metadata": {},
   "outputs": [],
   "source": [
    "#4\n",
    "### Y que hacemos con los Nan? -> por ejemplo convertirlos en la moda de la variable\n",
    "df_muestra['Tornado_AVG2'].replace('nan',np.nan).mode(dropna=True)[0]"
   ]
  },
  {
   "cell_type": "code",
   "execution_count": null,
   "metadata": {},
   "outputs": [],
   "source": [
    "#5\n",
    "### Ahora sustituimos los nan por el valor moda\n",
    "df_muestra['Tornado_AVG2']=df_muestra['Tornado_AVG2'].replace('nan','(0, 1.0]')\n",
    "df_resumido = df_muestra.groupby('Tornado_AVG2').agg({peso: 'sum', 'resp': 'mean'}).reset_index()\n",
    "graficar_barras_linea(df_resumido,'Tornado_AVG2',peso,'resp')"
   ]
  },
  {
   "cell_type": "code",
   "execution_count": null,
   "metadata": {},
   "outputs": [],
   "source": [
    "# Variable 5 \n",
    "# Pluviometria Anual\n",
    "var5='Pluviometria_anual'\n",
    "df_muestra=df_muestra[df_muestra[var5]<1500]\n",
    "df_muestra[var5].dtype\n",
    "df_resumido = df_muestra.groupby(var5).agg({peso: 'sum', 'resp': 'mean'}).reset_index()\n",
    "graficar_barras_linea(df_resumido,var5,peso,'resp')"
   ]
  },
  {
   "cell_type": "code",
   "execution_count": null,
   "metadata": {},
   "outputs": [],
   "source": [
    "#2\n",
    "pluviometria_corregida=generar_formato_exposicion_homogenea(df_muestra, 'Pluviometria_anual', peso, 10)\n",
    "df_muestra['Pluviometria_anual2']=pluviometria_corregida #Sobreescribimos la columna corregida"
   ]
  },
  {
   "cell_type": "code",
   "execution_count": null,
   "metadata": {},
   "outputs": [],
   "source": [
    "#3\n",
    "df_muestra['Pluviometria_anual2']=df_muestra['Pluviometria_anual2'].astype(str)\n",
    "df_resumido = df_muestra.groupby('Pluviometria_anual2').agg({peso: 'sum', 'resp': 'mean'}).reset_index()\n",
    "graficar_barras_linea(df_resumido,'Pluviometria_anual2',peso,'resp')"
   ]
  },
  {
   "cell_type": "code",
   "execution_count": null,
   "metadata": {},
   "outputs": [],
   "source": [
    "#4\n",
    "### Y que hacemos con los Nan? -> por ejemplo convertirlos en la moda de la variable\n",
    "df_muestra['Pluviometria_anual2'].replace('nan',np.nan).mode(dropna=True)[0]"
   ]
  },
  {
   "cell_type": "code",
   "execution_count": null,
   "metadata": {},
   "outputs": [],
   "source": [
    "#5\n",
    "### Ahora sustituimos los nan por el valor moda\n",
    "df_muestra['Pluviometria_anual2']=df_muestra['Pluviometria_anual2'].replace('nan','(444.0, 469.0]')\n",
    "df_resumido = df_muestra.groupby('Pluviometria_anual2').agg({peso: 'sum', 'resp': 'mean'}).reset_index()\n",
    "graficar_barras_linea(df_resumido,'Pluviometria_anual2',peso,'resp')"
   ]
  },
  {
   "cell_type": "code",
   "execution_count": null,
   "metadata": {},
   "outputs": [],
   "source": [
    "#Modelo 1\n",
    "factores=['year','antigedif_2','FP','SUPERFICIE2','CODPROV','Pluviometria_anual2','Tornado_AVG2','ANTIGUEDAD_VIVIENDA2']\n",
    "df_muestra[factores].dtypes"
   ]
  },
  {
   "cell_type": "code",
   "execution_count": null,
   "metadata": {},
   "outputs": [],
   "source": [
    "# Creamos variables dummy para las columnas categóricas\n",
    "key_words=['year', 'antigedif_2','SUPERFICIE2','Pluviometria_anual2','Tornado_AVG2','ANTIGUEDAD_VIVIENDA2']\n",
    "df_encoded = pd.get_dummies(df_muestra, columns=key_words, drop_first=True)"
   ]
  },
  {
   "cell_type": "code",
   "execution_count": null,
   "metadata": {},
   "outputs": [],
   "source": [
    "cols_encoded = [each for each in df_encoded.columns if any(keyword in each for keyword in key_words)]\n",
    "cols_encoded"
   ]
  },
  {
   "cell_type": "code",
   "execution_count": null,
   "metadata": {},
   "outputs": [],
   "source": [
    "factores_updated=[each for each in factores if each not in key_words]\n",
    "factores_updated"
   ]
  },
  {
   "cell_type": "code",
   "execution_count": null,
   "metadata": {},
   "outputs": [],
   "source": [
    "list(set(cols_encoded+factores_updated))"
   ]
  },
  {
   "cell_type": "code",
   "execution_count": null,
   "metadata": {},
   "outputs": [],
   "source": [
    "# Prepara los datos\n",
    "df_encoded = df_encoded[list(set(cols_encoded+factores_updated))].astype('float')\n",
    "df_encoded.fillna(0, inplace=True)\n",
    "X=df_encoded# Selecciona las variables predictoras\n",
    "X = sm.add_constant(X)            # Agrega una constante al modelo (intercepto)\n",
    "y = df_muestra['resp']                   # Variable de respuesta\n",
    "\n",
    "# Definir la exposición como un offset en logaritmo\n",
    "offset = np.log(df_muestra[peso])\n",
    "\n",
    "# Crear el modelo GLM con enlace logarítmico y familia Poisson\n",
    "modelo = sm.GLM(y, X, family=sm.families.Poisson(), offset=offset)\n",
    "\n",
    "# Ajustar el modelo\n",
    "resultado = modelo.fit()\n",
    "\n",
    "# Mostrar los resultados del modelo\n",
    "print(resultado.summary())"
   ]
  },
  {
   "cell_type": "code",
   "execution_count": null,
   "metadata": {},
   "outputs": [],
   "source": [
    "def calculate_bic(model):\n",
    "    n = len(model.model.endog)  # Número de observaciones\n",
    "    k = model.df_model + 1  # Número de parámetros (df_model incluye los coeficientes, sumamos 1 por el intercepto)\n",
    "    bic = np.log(n) * k - 2 * model.llf  # BIC = ln(n) * k - 2 * log-verosimilitud\n",
    "    return bic"
   ]
  },
  {
   "cell_type": "code",
   "execution_count": null,
   "metadata": {},
   "outputs": [],
   "source": [
    "calculate_bic(resultado)"
   ]
  },
  {
   "cell_type": "code",
   "execution_count": null,
   "metadata": {},
   "outputs": [],
   "source": [
    "#Modelo 2\n",
    "#Quitamos la variable Pluviometria_anual para comparar si el modelo mejora\n",
    "factores2=['year','antigedif_2','FP','SUPERFICIE2','CODPROV','Tornado_AVG2','ANTIGUEDAD_VIVIENDA2']\n",
    "df_muestra[factores2].dtypes"
   ]
  },
  {
   "cell_type": "code",
   "execution_count": null,
   "metadata": {},
   "outputs": [],
   "source": [
    "# Creamos variables dummy para las columnas categóricas\n",
    "key_words2=['year', 'antigedif_2','SUPERFICIE2','Tornado_AVG2','ANTIGUEDAD_VIVIENDA2']\n",
    "df_encoded2 = pd.get_dummies(df_muestra, columns=key_words2, drop_first=True)"
   ]
  },
  {
   "cell_type": "code",
   "execution_count": null,
   "metadata": {},
   "outputs": [],
   "source": [
    "cols_encoded2 = [each for each in df_encoded2.columns if any(keyword in each for keyword in key_words2)]\n",
    "cols_encoded2"
   ]
  },
  {
   "cell_type": "code",
   "execution_count": null,
   "metadata": {},
   "outputs": [],
   "source": [
    "factores_updated2=[each for each in factores2 if each not in key_words2]\n",
    "factores_updated2"
   ]
  },
  {
   "cell_type": "code",
   "execution_count": null,
   "metadata": {},
   "outputs": [],
   "source": [
    "# Prepara los datos\n",
    "df_encoded2 = df_encoded2[list(set(cols_encoded2+factores_updated2))].astype('float')\n",
    "df_encoded2.fillna(0, inplace=True)\n",
    "X=df_encoded2# Selecciona las variables predictoras\n",
    "X = sm.add_constant(X)            # Agrega una constante al modelo (intercepto)\n",
    "y = df_muestra['resp']                   # Variable de respuesta\n",
    "\n",
    "# Definir la exposición como un offset en logaritmo\n",
    "offset = np.log(df_muestra[peso])\n",
    "\n",
    "# Crear el modelo GLM con enlace logarítmico y familia Poisson\n",
    "modelo1 = sm.GLM(y, X, family=sm.families.Poisson(), offset=offset)\n",
    "\n",
    "# Ajustar el modelo\n",
    "resultado1 = modelo1.fit()\n",
    "\n",
    "# Mostrar los resultados del modelo\n",
    "print(resultado1.summary())"
   ]
  },
  {
   "cell_type": "code",
   "execution_count": null,
   "metadata": {},
   "outputs": [],
   "source": [
    "calculate_bic(resultado1)"
   ]
  },
  {
   "cell_type": "code",
   "execution_count": null,
   "metadata": {},
   "outputs": [],
   "source": [
    "#Modelo 3\n",
    "#Quitamos la variable antigedif_2 para comparar si el modelo mejora\n",
    "factores3=['year','FP','SUPERFICIE2','CODPROV','Tornado_AVG2','ANTIGUEDAD_VIVIENDA2']\n",
    "df_muestra[factores3].dtypes"
   ]
  },
  {
   "cell_type": "code",
   "execution_count": null,
   "metadata": {},
   "outputs": [],
   "source": [
    "# Creamos variables dummy para las columnas categóricas\n",
    "key_words3=['year', 'SUPERFICIE2','Tornado_AVG2','ANTIGUEDAD_VIVIENDA2']\n",
    "df_encoded3 = pd.get_dummies(df_muestra, columns=key_words3, drop_first=True)"
   ]
  },
  {
   "cell_type": "code",
   "execution_count": null,
   "metadata": {},
   "outputs": [],
   "source": [
    "cols_encoded3 = [each for each in df_encoded3.columns if any(keyword in each for keyword in key_words3)]\n",
    "cols_encoded3"
   ]
  },
  {
   "cell_type": "code",
   "execution_count": null,
   "metadata": {},
   "outputs": [],
   "source": [
    "factores_updated3=[each for each in factores3 if each not in key_words3]\n",
    "factores_updated3"
   ]
  },
  {
   "cell_type": "code",
   "execution_count": null,
   "metadata": {},
   "outputs": [],
   "source": [
    "# Prepara los datos\n",
    "df_encoded3 = df_encoded3[list(set(cols_encoded3+factores_updated3))].astype('float')\n",
    "df_encoded3.fillna(0, inplace=True)\n",
    "X=df_encoded3# Selecciona las variables predictoras\n",
    "X = sm.add_constant(X)            # Agrega una constante al modelo (intercepto)\n",
    "y = df_muestra['resp']                   # Variable de respuesta\n",
    "\n",
    "# Definir la exposición como un offset en logaritmo\n",
    "offset = np.log(df_muestra[peso])\n",
    "\n",
    "# Crear el modelo GLM con enlace logarítmico y familia Poisson\n",
    "modelo2 = sm.GLM(y, X, family=sm.families.Poisson(), offset=offset)\n",
    "\n",
    "# Ajustar el modelo\n",
    "resultado2 = modelo2.fit()\n",
    "\n",
    "# Mostrar los resultados del modelo\n",
    "print(resultado2.summary())"
   ]
  },
  {
   "cell_type": "code",
   "execution_count": null,
   "metadata": {},
   "outputs": [],
   "source": [
    "calculate_bic(resultado2)"
   ]
  },
  {
   "cell_type": "code",
   "execution_count": null,
   "metadata": {},
   "outputs": [],
   "source": []
  },
  {
   "cell_type": "code",
   "execution_count": null,
   "metadata": {},
   "outputs": [],
   "source": []
  },
  {
   "cell_type": "code",
   "execution_count": null,
   "metadata": {},
   "outputs": [],
   "source": []
  }
 ],
 "metadata": {
  "kernelspec": {
   "display_name": "base",
   "language": "python",
   "name": "python3"
  },
  "language_info": {
   "codemirror_mode": {
    "name": "ipython",
    "version": 3
   },
   "file_extension": ".py",
   "mimetype": "text/x-python",
   "name": "python",
   "nbconvert_exporter": "python",
   "pygments_lexer": "ipython3",
   "version": "3.12.7"
  }
 },
 "nbformat": 4,
 "nbformat_minor": 2
}
